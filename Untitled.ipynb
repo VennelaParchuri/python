{
 "cells": [
  {
   "cell_type": "code",
   "execution_count": 7,
   "id": "3e2b036b",
   "metadata": {},
   "outputs": [],
   "source": [
    "def capital_indexes(strn):\n",
    "    list1 = []\n",
    "    list2 = list(strn)\n",
    "    print(list2)\n",
    "    for x in list2:\n",
    "        if x==x.upper():\n",
    "            list1.append(x.index(x))\n",
    "            list2.pop(x.index(x))\n",
    "            \n",
    "        else:\n",
    "            continue\n",
    "    return list1\n",
    "            "
   ]
  },
  {
   "cell_type": "code",
   "execution_count": 8,
   "id": "195f6ee2",
   "metadata": {},
   "outputs": [
    {
     "name": "stdout",
     "output_type": "stream",
     "text": [
      "['H', 'I']\n"
     ]
    },
    {
     "data": {
      "text/plain": [
       "[0]"
      ]
     },
     "execution_count": 8,
     "metadata": {},
     "output_type": "execute_result"
    }
   ],
   "source": [
    "capital_indexes('HI')"
   ]
  },
  {
   "cell_type": "code",
   "execution_count": null,
   "id": "6318ee77",
   "metadata": {},
   "outputs": [],
   "source": []
  }
 ],
 "metadata": {
  "kernelspec": {
   "display_name": "Python 3 (ipykernel)",
   "language": "python",
   "name": "python3"
  },
  "language_info": {
   "codemirror_mode": {
    "name": "ipython",
    "version": 3
   },
   "file_extension": ".py",
   "mimetype": "text/x-python",
   "name": "python",
   "nbconvert_exporter": "python",
   "pygments_lexer": "ipython3",
   "version": "3.9.12"
  }
 },
 "nbformat": 4,
 "nbformat_minor": 5
}
