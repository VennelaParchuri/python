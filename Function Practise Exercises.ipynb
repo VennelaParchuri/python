{
 "cells": [
  {
   "cell_type": "code",
   "execution_count": 1,
   "id": "819be69e",
   "metadata": {},
   "outputs": [],
   "source": [
    "# Lesser of two evens\n",
    "\n",
    "def less_even(a,b):\n",
    "    if a%2==0 and b%2==0:\n",
    "        if a>b:\n",
    "            return b\n",
    "        else:\n",
    "            return a\n",
    "    else:\n",
    "        if a>b:\n",
    "            return a\n",
    "        else:\n",
    "            return b\n",
    "        \n",
    "# can use min and max functions instead"
   ]
  },
  {
   "cell_type": "code",
   "execution_count": 2,
   "id": "0628f31c",
   "metadata": {},
   "outputs": [
    {
     "data": {
      "text/plain": [
       "2"
      ]
     },
     "execution_count": 2,
     "metadata": {},
     "output_type": "execute_result"
    }
   ],
   "source": [
    "less_even(2,4)"
   ]
  },
  {
   "cell_type": "code",
   "execution_count": 3,
   "id": "20840052",
   "metadata": {},
   "outputs": [
    {
     "data": {
      "text/plain": [
       "3"
      ]
     },
     "execution_count": 3,
     "metadata": {},
     "output_type": "execute_result"
    }
   ],
   "source": [
    "less_even(2,3)"
   ]
  },
  {
   "cell_type": "code",
   "execution_count": 4,
   "id": "61050e28",
   "metadata": {},
   "outputs": [
    {
     "data": {
      "text/plain": [
       "7"
      ]
     },
     "execution_count": 4,
     "metadata": {},
     "output_type": "execute_result"
    }
   ],
   "source": [
    "less_even(3,7)"
   ]
  },
  {
   "cell_type": "code",
   "execution_count": 8,
   "id": "c16af9d7",
   "metadata": {},
   "outputs": [],
   "source": [
    "# Animal Crackers\n",
    "\n",
    "def animal_crackers(string1):\n",
    "    list1 = string1.split()\n",
    "    if list1[0][0].upper()== list1[1][0].upper():\n",
    "        return True\n",
    "    else:\n",
    "        return False\n",
    "   "
   ]
  },
  {
   "cell_type": "code",
   "execution_count": 9,
   "id": "23dff6e0",
   "metadata": {},
   "outputs": [
    {
     "data": {
      "text/plain": [
       "True"
      ]
     },
     "execution_count": 9,
     "metadata": {},
     "output_type": "execute_result"
    }
   ],
   "source": [
    "animal_crackers('Levelheaded Llama')"
   ]
  },
  {
   "cell_type": "code",
   "execution_count": 10,
   "id": "976891ef",
   "metadata": {},
   "outputs": [
    {
     "data": {
      "text/plain": [
       "False"
      ]
     },
     "execution_count": 10,
     "metadata": {},
     "output_type": "execute_result"
    }
   ],
   "source": [
    "animal_crackers('Crazy Kangaroo')"
   ]
  },
  {
   "cell_type": "code",
   "execution_count": 11,
   "id": "0b22f050",
   "metadata": {},
   "outputs": [],
   "source": [
    "# MAKES TWENTY: Given two integers, return True if the sum of the integers is 20 or if one of the integers is 20.\n",
    "# If not, return False\n",
    "\n",
    "def makes_twenty(a,b):\n",
    "    if a==20 or b==20:\n",
    "        return True\n",
    "    elif a+b==20:\n",
    "        return True\n",
    "    else:\n",
    "        return False"
   ]
  },
  {
   "cell_type": "code",
   "execution_count": 15,
   "id": "9057a91c",
   "metadata": {},
   "outputs": [
    {
     "data": {
      "text/plain": [
       "True"
      ]
     },
     "execution_count": 15,
     "metadata": {},
     "output_type": "execute_result"
    }
   ],
   "source": [
    "makes_twenty(10,10)"
   ]
  },
  {
   "cell_type": "code",
   "execution_count": 48,
   "id": "50cf64b8",
   "metadata": {},
   "outputs": [
    {
     "data": {
      "text/plain": [
       "False"
      ]
     },
     "execution_count": 48,
     "metadata": {},
     "output_type": "execute_result"
    }
   ],
   "source": [
    "makes_twenty(2,3)"
   ]
  },
  {
   "cell_type": "code",
   "execution_count": 22,
   "id": "f302e72f",
   "metadata": {},
   "outputs": [],
   "source": [
    "#OLD MACDONALD: Write a function that capitalizes the first and fourth letters of a name\n",
    "\n",
    "def old_macdonald(string1):\n",
    "    string2 = ''\n",
    "    for x in range(1,len(string1)+1):\n",
    "        if x==1:\n",
    "            string2 += string1[x-1].upper()\n",
    "        elif x==4:\n",
    "            string2 +=string1[x-1].upper()\n",
    "        else:\n",
    "            string2 = string2 + string1[x-1]\n",
    "    return string2"
   ]
  },
  {
   "cell_type": "code",
   "execution_count": 23,
   "id": "1660cc7d",
   "metadata": {},
   "outputs": [
    {
     "data": {
      "text/plain": [
       "'MacDonald'"
      ]
     },
     "execution_count": 23,
     "metadata": {},
     "output_type": "execute_result"
    }
   ],
   "source": [
    "old_macdonald('macdonald')"
   ]
  },
  {
   "cell_type": "code",
   "execution_count": 82,
   "id": "0188d4ab",
   "metadata": {},
   "outputs": [],
   "source": [
    "#MASTER YODA: Given a sentence, return a sentence with the words reversed\n",
    "\n",
    "def master_yoda(string1):\n",
    "    list1 = string1.split()\n",
    "    list2 = []\n",
    "    for x in range(1,len(list1)+1):\n",
    "        list2[x-1] = list1[len(list1)-x])\n",
    "    print(list2)\n",
    "        "
   ]
  },
  {
   "cell_type": "code",
   "execution_count": 83,
   "id": "f69e0744",
   "metadata": {},
   "outputs": [
    {
     "ename": "IndexError",
     "evalue": "list index out of range",
     "output_type": "error",
     "traceback": [
      "\u001b[1;31m---------------------------------------------------------------------------\u001b[0m",
      "\u001b[1;31mIndexError\u001b[0m                                Traceback (most recent call last)",
      "Input \u001b[1;32mIn [83]\u001b[0m, in \u001b[0;36m<cell line: 1>\u001b[1;34m()\u001b[0m\n\u001b[1;32m----> 1\u001b[0m \u001b[43mmaster_yoda\u001b[49m\u001b[43m(\u001b[49m\u001b[38;5;124;43m'\u001b[39;49m\u001b[38;5;124;43mI am home\u001b[39;49m\u001b[38;5;124;43m'\u001b[39;49m\u001b[43m)\u001b[49m\n",
      "Input \u001b[1;32mIn [82]\u001b[0m, in \u001b[0;36mmaster_yoda\u001b[1;34m(string1)\u001b[0m\n\u001b[0;32m      6\u001b[0m list3 \u001b[38;5;241m=\u001b[39m []\n\u001b[0;32m      7\u001b[0m \u001b[38;5;28;01mfor\u001b[39;00m x \u001b[38;5;129;01min\u001b[39;00m \u001b[38;5;28mrange\u001b[39m(\u001b[38;5;241m1\u001b[39m,\u001b[38;5;28mlen\u001b[39m(list1)\u001b[38;5;241m+\u001b[39m\u001b[38;5;241m1\u001b[39m):\n\u001b[1;32m----> 8\u001b[0m     list2 \u001b[38;5;241m=\u001b[39m\u001b[43mlist2\u001b[49m\u001b[43m[\u001b[49m\u001b[43mx\u001b[49m\u001b[38;5;241;43m-\u001b[39;49m\u001b[38;5;241;43m1\u001b[39;49m\u001b[43m]\u001b[49m\u001b[38;5;241m.\u001b[39mappend(list1[\u001b[38;5;28mlen\u001b[39m(list1)\u001b[38;5;241m-\u001b[39mx])\n\u001b[0;32m      9\u001b[0m \u001b[38;5;28mprint\u001b[39m(list2)\n",
      "\u001b[1;31mIndexError\u001b[0m: list index out of range"
     ]
    }
   ],
   "source": [
    "master_yoda('I am home')"
   ]
  },
  {
   "cell_type": "code",
   "execution_count": 49,
   "id": "65aa71f8",
   "metadata": {},
   "outputs": [],
   "source": [
    "def old_mcdonald(name):\n",
    "    first_letter = name[0]\n",
    "    inbetween = name[1:3]\n",
    "    fourthletter = name[3]\n",
    "    rest = name[4:]\n",
    "    return first_letter.upper()+inbetween+fourthletter.upper()+rest"
   ]
  },
  {
   "cell_type": "code",
   "execution_count": 50,
   "id": "303aea49",
   "metadata": {},
   "outputs": [
    {
     "data": {
      "text/plain": [
       "'MacDonald'"
      ]
     },
     "execution_count": 50,
     "metadata": {},
     "output_type": "execute_result"
    }
   ],
   "source": [
    "old_macdonald('macdonald')"
   ]
  },
  {
   "cell_type": "code",
   "execution_count": 53,
   "id": "b9523304",
   "metadata": {},
   "outputs": [],
   "source": [
    "def master_yoda(sentence):\n",
    "    wordList = sentence.split()\n",
    "    reversed_wordList = wordList[::-1]\n",
    "    reversed_wordList = ' '.join(reversed_wordList)\n",
    "    return reversed_wordList"
   ]
  },
  {
   "cell_type": "code",
   "execution_count": 54,
   "id": "78dd65b0",
   "metadata": {},
   "outputs": [
    {
     "data": {
      "text/plain": [
       "'home am I'"
      ]
     },
     "execution_count": 54,
     "metadata": {},
     "output_type": "execute_result"
    }
   ],
   "source": [
    "master_yoda('I am home')"
   ]
  },
  {
   "cell_type": "code",
   "execution_count": 90,
   "id": "31b3cadf",
   "metadata": {},
   "outputs": [],
   "source": []
  },
  {
   "cell_type": "code",
   "execution_count": null,
   "id": "7bc7531d",
   "metadata": {},
   "outputs": [],
   "source": []
  },
  {
   "cell_type": "code",
   "execution_count": 105,
   "id": "4d846afa",
   "metadata": {},
   "outputs": [],
   "source": [
    "def master_yoda(string1):\n",
    "    list1 = string1.split()\n",
    "    list2 = []\n",
    "    for value in list1:\n",
    "        list2 = [value] + list2\n",
    "    return list2\n",
    "    "
   ]
  },
  {
   "cell_type": "code",
   "execution_count": 106,
   "id": "717a966d",
   "metadata": {},
   "outputs": [
    {
     "data": {
      "text/plain": [
       "['home', 'am', 'I']"
      ]
     },
     "execution_count": 106,
     "metadata": {},
     "output_type": "execute_result"
    }
   ],
   "source": [
    "master_yoda('I am home')"
   ]
  },
  {
   "cell_type": "code",
   "execution_count": 97,
   "id": "1d3fc422",
   "metadata": {},
   "outputs": [],
   "source": [
    "# ALMOST THERE: Given an integer n, return True if n is within 10 of either 100 or 200\n",
    "\n",
    "def almost_there(num):\n",
    "    if num in range(90,111):\n",
    "        return True\n",
    "    elif num in range(190,211):\n",
    "        return True\n",
    "    else:\n",
    "        return False"
   ]
  },
  {
   "cell_type": "code",
   "execution_count": 99,
   "id": "22ef4317",
   "metadata": {},
   "outputs": [
    {
     "data": {
      "text/plain": [
       "True"
      ]
     },
     "execution_count": 99,
     "metadata": {},
     "output_type": "execute_result"
    }
   ],
   "source": [
    "almost_there(209)"
   ]
  },
  {
   "cell_type": "code",
   "execution_count": 100,
   "id": "463c8c59",
   "metadata": {},
   "outputs": [],
   "source": [
    "def almost_there(n):\n",
    "    return (abs(100-n)<=10 or abs(200-n)<=10)"
   ]
  },
  {
   "cell_type": "code",
   "execution_count": 102,
   "id": "20dda19a",
   "metadata": {},
   "outputs": [
    {
     "data": {
      "text/plain": [
       "False"
      ]
     },
     "execution_count": 102,
     "metadata": {},
     "output_type": "execute_result"
    }
   ],
   "source": [
    "almost_there(229)"
   ]
  },
  {
   "cell_type": "code",
   "execution_count": 156,
   "id": "eb88d196",
   "metadata": {},
   "outputs": [],
   "source": [
    "def has_33(list1):\n",
    "    for n in range(0,len(list1)):\n",
    "        if n==0:\n",
    "            if(list1[n]==3 and list[n+1]==3):\n",
    "                return True\n",
    "        else: \n",
    "            if(list1[n-1] == 3 and list1[n]== 3) or (list1[n]==3 and list[n+1]==3):\n",
    "                return True\n",
    "    return False"
   ]
  },
  {
   "cell_type": "code",
   "execution_count": 157,
   "id": "5a4ffdf7",
   "metadata": {},
   "outputs": [
    {
     "data": {
      "text/plain": [
       "True"
      ]
     },
     "execution_count": 157,
     "metadata": {},
     "output_type": "execute_result"
    }
   ],
   "source": [
    "has_33([1, 3, 3])"
   ]
  },
  {
   "cell_type": "code",
   "execution_count": 158,
   "id": "efc32a62",
   "metadata": {},
   "outputs": [
    {
     "data": {
      "text/plain": [
       "False"
      ]
     },
     "execution_count": 158,
     "metadata": {},
     "output_type": "execute_result"
    }
   ],
   "source": [
    "has_33([1, 3, 1, 3])"
   ]
  },
  {
   "cell_type": "code",
   "execution_count": 159,
   "id": "e01e0c7c",
   "metadata": {},
   "outputs": [
    {
     "data": {
      "text/plain": [
       "False"
      ]
     },
     "execution_count": 159,
     "metadata": {},
     "output_type": "execute_result"
    }
   ],
   "source": [
    "has_33([3, 1, 3])"
   ]
  },
  {
   "cell_type": "code",
   "execution_count": 160,
   "id": "0ed4ab7f",
   "metadata": {},
   "outputs": [
    {
     "data": {
      "text/plain": [
       "True"
      ]
     },
     "execution_count": 160,
     "metadata": {},
     "output_type": "execute_result"
    }
   ],
   "source": [
    "has_33([3, 3, 1,2,4,3])"
   ]
  },
  {
   "cell_type": "code",
   "execution_count": 163,
   "id": "9b080089",
   "metadata": {},
   "outputs": [],
   "source": [
    "# PAPER DOLL: Given a string, return a string where for every character in the original there are three characters\n",
    "\n",
    "def paper_doll(string1):\n",
    "    string2 = ''\n",
    "    for n in string1:\n",
    "        string2 += n*3\n",
    "    return string2"
   ]
  },
  {
   "cell_type": "code",
   "execution_count": 165,
   "id": "21ae1de9",
   "metadata": {},
   "outputs": [
    {
     "data": {
      "text/plain": [
       "'HHHeeellllllooo'"
      ]
     },
     "execution_count": 165,
     "metadata": {},
     "output_type": "execute_result"
    }
   ],
   "source": [
    "paper_doll('Hello')"
   ]
  },
  {
   "cell_type": "code",
   "execution_count": 166,
   "id": "35fb270d",
   "metadata": {},
   "outputs": [
    {
     "data": {
      "text/plain": [
       "'MMMiiissssssiiissssssiiippppppiii'"
      ]
     },
     "execution_count": 166,
     "metadata": {},
     "output_type": "execute_result"
    }
   ],
   "source": [
    "paper_doll('Mississippi')"
   ]
  },
  {
   "cell_type": "code",
   "execution_count": 174,
   "id": "eea3ec6b",
   "metadata": {},
   "outputs": [],
   "source": [
    "# BLACKJACK: Given three integers between 1 and 11, if their sum is less than or equal to 21, \n",
    "# return their sum. If their sum exceeds 21 and there's an eleven, reduce the total sum by 10. Finally, \n",
    "# if the sum (even after adjustment) exceeds 21, return 'BUST'\n",
    "\n",
    "def blackjack(a,b,c):\n",
    "    x = sum((a,b,c))\n",
    "    if x <= 21:\n",
    "        return x\n",
    "    elif (x> 21) and (11 in [a,b,c]):\n",
    "        x=x-10\n",
    "        if(x<=21):\n",
    "            return x\n",
    "        else:\n",
    "            return 'BUST'\n",
    "    else:\n",
    "        return x-10"
   ]
  },
  {
   "cell_type": "code",
   "execution_count": 175,
   "id": "487c84b9",
   "metadata": {},
   "outputs": [
    {
     "data": {
      "text/plain": [
       "18"
      ]
     },
     "execution_count": 175,
     "metadata": {},
     "output_type": "execute_result"
    }
   ],
   "source": [
    "blackjack(5,6,7)"
   ]
  },
  {
   "cell_type": "code",
   "execution_count": 176,
   "id": "352faf94",
   "metadata": {},
   "outputs": [
    {
     "data": {
      "text/plain": [
       "17"
      ]
     },
     "execution_count": 176,
     "metadata": {},
     "output_type": "execute_result"
    }
   ],
   "source": [
    "blackjack(9,9,9)"
   ]
  },
  {
   "cell_type": "code",
   "execution_count": 178,
   "id": "f372d2d4",
   "metadata": {},
   "outputs": [
    {
     "data": {
      "text/plain": [
       "'BUST'"
      ]
     },
     "execution_count": 178,
     "metadata": {},
     "output_type": "execute_result"
    }
   ],
   "source": [
    "blackjack(9,19,11) "
   ]
  },
  {
   "cell_type": "code",
   "execution_count": 179,
   "id": "29b7ed5b",
   "metadata": {},
   "outputs": [],
   "source": [
    "# SUMMER OF '69: Return the sum of the numbers in the array, except ignore sections of numbers \n",
    "#starting with a 6 and extending to the next 9 (every 6 will be followed by at least one 9). Return 0 for no numbers.\n",
    "\n",
    "def summer_69(myList):\n",
    "    num = 0\n",
    "    count = 1\n",
    "    for n in myList:\n",
    "        if n!=6:\n",
    "            num= num+n\n",
    "            count+=1\n",
    "        else:\n",
    "            continue"
   ]
  },
  {
   "cell_type": "code",
   "execution_count": 180,
   "id": "854122cb",
   "metadata": {},
   "outputs": [],
   "source": [
    "def has_33(list1):\n",
    "    for n in range(0,len(list1)-1):\n",
    "        if list1[n]== 3 and list1[n+1] ==3:\n",
    "            return True\n",
    "    return False"
   ]
  },
  {
   "cell_type": "code",
   "execution_count": 181,
   "id": "1b8e6814",
   "metadata": {},
   "outputs": [],
   "source": [
    "def has_33(list1):\n",
    "    for n in range(0,len(list1)-1):\n",
    "        if list1[n:n+2]==[3,3]:\n",
    "            return True\n",
    "    return False"
   ]
  },
  {
   "cell_type": "code",
   "execution_count": 1,
   "id": "2966551d",
   "metadata": {},
   "outputs": [],
   "source": [
    " def summer_69(myList):\n",
    "        total = 0\n",
    "        flag = True\n",
    "        for num in myList:\n",
    "            while flag:\n",
    "                if num!=6:\n",
    "                    total += num\n",
    "                    break\n",
    "                else:\n",
    "                    flag = False\n",
    "            while not flag:\n",
    "                if num!=9:\n",
    "                    break\n",
    "                else:\n",
    "                    flag = True\n",
    "                    break\n",
    "        return total\n",
    "                "
   ]
  },
  {
   "cell_type": "code",
   "execution_count": 2,
   "id": "3a35aef8",
   "metadata": {},
   "outputs": [
    {
     "data": {
      "text/plain": [
       "9"
      ]
     },
     "execution_count": 2,
     "metadata": {},
     "output_type": "execute_result"
    }
   ],
   "source": [
    "summer_69([1, 3, 5])"
   ]
  },
  {
   "cell_type": "code",
   "execution_count": 3,
   "id": "4d31b64f",
   "metadata": {},
   "outputs": [
    {
     "data": {
      "text/plain": [
       "9"
      ]
     },
     "execution_count": 3,
     "metadata": {},
     "output_type": "execute_result"
    }
   ],
   "source": [
    "summer_69([4, 5, 6, 7, 8, 9])"
   ]
  },
  {
   "cell_type": "code",
   "execution_count": 4,
   "id": "44748bc5",
   "metadata": {},
   "outputs": [
    {
     "data": {
      "text/plain": [
       "14"
      ]
     },
     "execution_count": 4,
     "metadata": {},
     "output_type": "execute_result"
    }
   ],
   "source": [
    "summer_69([2, 1, 6, 9, 11])"
   ]
  },
  {
   "cell_type": "code",
   "execution_count": 9,
   "id": "b92c306b",
   "metadata": {},
   "outputs": [],
   "source": [
    "# SPY GAME: Write a function that takes in a list of integers and returns True if it contains 007 in order\n",
    "def spy_game(myList):\n",
    "    myNewList = []\n",
    "    for num in myList:\n",
    "        if num == 0:\n",
    "            myNewList = myNewList + [myList.index(num)]\n",
    "        elif num == 7:\n",
    "            myNewList = myNewList + [myList.index(num)]\n",
    "    return myNewList"
   ]
  },
  {
   "cell_type": "code",
   "execution_count": 13,
   "id": "dd791ebc",
   "metadata": {},
   "outputs": [
    {
     "data": {
      "text/plain": [
       "[]"
      ]
     },
     "execution_count": 13,
     "metadata": {},
     "output_type": "execute_result"
    }
   ],
   "source": [
    "spy_game([1,2,4,0,0,7,5])"
   ]
  },
  {
   "cell_type": "code",
   "execution_count": 31,
   "id": "b862f00d",
   "metadata": {},
   "outputs": [],
   "source": [
    "def spy_game(myList):\n",
    "    myNewList = []\n",
    "    myNewList1 = []\n",
    "    for num in myList:\n",
    "        if num == 0:\n",
    "            myNewList+= myList[myList.index(num)+1:]\n",
    "            break\n",
    "    for num1 in myNewList:\n",
    "        if num1 == 0:\n",
    "            myNewList1+= myNewList[myNewList.index(num1)+1:]\n",
    "            break\n",
    "    if 7 in myNewList1:\n",
    "        return True\n",
    "    else:\n",
    "        return False"
   ]
  },
  {
   "cell_type": "code",
   "execution_count": 29,
   "id": "b9e63adc",
   "metadata": {},
   "outputs": [
    {
     "data": {
      "text/plain": [
       "True"
      ]
     },
     "execution_count": 29,
     "metadata": {},
     "output_type": "execute_result"
    }
   ],
   "source": [
    "spy_game([1,0,2,4,0,5,7])"
   ]
  },
  {
   "cell_type": "code",
   "execution_count": 32,
   "id": "c69a9006",
   "metadata": {},
   "outputs": [
    {
     "name": "stdout",
     "output_type": "stream",
     "text": [
      "[]\n"
     ]
    },
    {
     "data": {
      "text/plain": [
       "False"
      ]
     },
     "execution_count": 32,
     "metadata": {},
     "output_type": "execute_result"
    }
   ],
   "source": [
    "spy_game([1,7,2,0,4,5,0])"
   ]
  },
  {
   "cell_type": "code",
   "execution_count": 60,
   "id": "490fd781",
   "metadata": {},
   "outputs": [],
   "source": [
    "#COUNT PRIMES: Write a function that returns the number of prime numbers that exist up to and including a given number\n",
    "\n",
    "def count_primes(num):\n",
    "    if num==1:\n",
    "        print('1 is neither prime nor composite')\n",
    "    else:\n",
    "        for n in range(2,num+1):\n",
    "            count = 0\n",
    "            for m in range(2,n):\n",
    "                if n%m == 0:\n",
    "                    count+=1\n",
    "            if count==0:\n",
    "                print(n)\n",
    "                "
   ]
  },
  {
   "cell_type": "code",
   "execution_count": 63,
   "id": "889ba619",
   "metadata": {},
   "outputs": [
    {
     "name": "stdout",
     "output_type": "stream",
     "text": [
      "2\n",
      "3\n",
      "5\n",
      "7\n",
      "11\n",
      "13\n",
      "17\n"
     ]
    }
   ],
   "source": [
    "count_primes(17)"
   ]
  },
  {
   "cell_type": "code",
   "execution_count": 65,
   "id": "63e96026",
   "metadata": {},
   "outputs": [],
   "source": [
    "def spy_game(myList):\n",
    "    code = [0,0,7,'x']\n",
    "    for n in myList:\n",
    "        if n==code[0]:\n",
    "            code.pop(0)\n",
    "    return len(code)==1"
   ]
  },
  {
   "cell_type": "code",
   "execution_count": 66,
   "id": "afe638e2",
   "metadata": {},
   "outputs": [
    {
     "data": {
      "text/plain": [
       "False"
      ]
     },
     "execution_count": 66,
     "metadata": {},
     "output_type": "execute_result"
    }
   ],
   "source": [
    "spy_game([1,7,2,0,4,5,0])"
   ]
  },
  {
   "cell_type": "code",
   "execution_count": 76,
   "id": "b76f3806",
   "metadata": {},
   "outputs": [],
   "source": [
    "def check1(myString):\n",
    "    myList =[]\n",
    "    myList1= []\n",
    "    for n in myString:\n",
    "        myList.append(n)\n",
    "        myList1= myList1 + [n]\n",
    "    print(myList1)\n",
    "    return myList\n"
   ]
  },
  {
   "cell_type": "code",
   "execution_count": 77,
   "id": "a1fa81a6",
   "metadata": {},
   "outputs": [
    {
     "name": "stdout",
     "output_type": "stream",
     "text": [
      "['V', 'e', 'n', 'n', 'e', 'l', 'a']\n"
     ]
    },
    {
     "data": {
      "text/plain": [
       "['V', 'e', 'n', 'n', 'e', 'l', 'a']"
      ]
     },
     "execution_count": 77,
     "metadata": {},
     "output_type": "execute_result"
    }
   ],
   "source": [
    "check1('Vennela')"
   ]
  },
  {
   "cell_type": "code",
   "execution_count": 78,
   "id": "eacdf636",
   "metadata": {},
   "outputs": [],
   "source": [
    "myList = [1,2,3,4,5]"
   ]
  },
  {
   "cell_type": "code",
   "execution_count": 79,
   "id": "e8d2488b",
   "metadata": {},
   "outputs": [
    {
     "ename": "NameError",
     "evalue": "name 'square' is not defined",
     "output_type": "error",
     "traceback": [
      "\u001b[1;31m---------------------------------------------------------------------------\u001b[0m",
      "\u001b[1;31mNameError\u001b[0m                                 Traceback (most recent call last)",
      "Input \u001b[1;32mIn [79]\u001b[0m, in \u001b[0;36m<cell line: 1>\u001b[1;34m()\u001b[0m\n\u001b[1;32m----> 1\u001b[0m list2 \u001b[38;5;241m=\u001b[39m[square(num) \u001b[38;5;28;01mfor\u001b[39;00m num \u001b[38;5;129;01min\u001b[39;00m myList]\n",
      "Input \u001b[1;32mIn [79]\u001b[0m, in \u001b[0;36m<listcomp>\u001b[1;34m(.0)\u001b[0m\n\u001b[1;32m----> 1\u001b[0m list2 \u001b[38;5;241m=\u001b[39m[\u001b[43msquare\u001b[49m(num) \u001b[38;5;28;01mfor\u001b[39;00m num \u001b[38;5;129;01min\u001b[39;00m myList]\n",
      "\u001b[1;31mNameError\u001b[0m: name 'square' is not defined"
     ]
    }
   ],
   "source": []
  },
  {
   "cell_type": "code",
   "execution_count": null,
   "id": "9658fb10",
   "metadata": {},
   "outputs": [],
   "source": []
  }
 ],
 "metadata": {
  "kernelspec": {
   "display_name": "Python 3 (ipykernel)",
   "language": "python",
   "name": "python3"
  },
  "language_info": {
   "codemirror_mode": {
    "name": "ipython",
    "version": 3
   },
   "file_extension": ".py",
   "mimetype": "text/x-python",
   "name": "python",
   "nbconvert_exporter": "python",
   "pygments_lexer": "ipython3",
   "version": "3.9.12"
  }
 },
 "nbformat": 4,
 "nbformat_minor": 5
}
