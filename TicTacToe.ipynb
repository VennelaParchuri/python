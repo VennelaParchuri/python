{
 "cells": [
  {
   "cell_type": "code",
   "execution_count": 1,
   "id": "564a6aba",
   "metadata": {},
   "outputs": [],
   "source": [
    "#Write a function that can print out a board. Set up your board as a list, where each index 1-9 corresponds with a number \n",
    "#on a number pad, so you get a 3 by 3 board representation."
   ]
  },
  {
   "cell_type": "code",
   "execution_count": 10,
   "id": "2d0c4c64",
   "metadata": {},
   "outputs": [],
   "source": [
    "from IPython.display import clear_output\n",
    "\n",
    "def display_board(myList):\n",
    "    clear_output\n",
    "    print('\\n')\n",
    "    print(f'    {myList[0]}   |    {myList[1]}   |    {myList[2]    }')\n",
    "    print('        |        |          ')\n",
    "    print('        |        |          ')\n",
    "    print('--------------------------')\n",
    "    print('        |        |          ')\n",
    "    print('        |        |          ')\n",
    "    print(f'    {myList[3]}   |    {myList[4]}   |    {myList[5]    }')\n",
    "    print('        |        |          ')\n",
    "    print('        |        |          ')\n",
    "    print('--------------------------')\n",
    "    print('        |        |          ')\n",
    "    print('        |        |          ')\n",
    "    print(f'    {myList[6]}   |    {myList[7]}   |    {myList[8]    }')"
   ]
  },
  {
   "cell_type": "code",
   "execution_count": 11,
   "id": "bb0924c1",
   "metadata": {},
   "outputs": [
    {
     "name": "stdout",
     "output_type": "stream",
     "text": [
      "\n",
      "\n",
      "    #   |    X   |    O\n",
      "        |        |          \n",
      "        |        |          \n",
      "--------------------------\n",
      "        |        |          \n",
      "        |        |          \n",
      "    X   |    O   |    X\n",
      "        |        |          \n",
      "        |        |          \n",
      "--------------------------\n",
      "        |        |          \n",
      "        |        |          \n",
      "    O   |    X   |    O\n",
      "\n",
      "\n",
      "    #   |    X   |    O\n",
      "        |        |          \n",
      "        |        |          \n",
      "--------------------------\n",
      "        |        |          \n",
      "        |        |          \n",
      "    X   |    O   |    X\n",
      "        |        |          \n",
      "        |        |          \n",
      "--------------------------\n",
      "        |        |          \n",
      "        |        |          \n",
      "    O   |    X   |    O\n"
     ]
    }
   ],
   "source": [
    "test_board = ['#','X','O','X','O','X','O','X','O','X']\n",
    "display_board(test_board)\n",
    "display_board(test_board)"
   ]
  },
  {
   "cell_type": "code",
   "execution_count": 121,
   "id": "ade0cb11",
   "metadata": {},
   "outputs": [],
   "source": [
    "# Write a function that can take in a player input and assign their marker as 'X' or 'O'. \n",
    "# Think about using while loops to continually ask until you get a correct answer.\n",
    "\n",
    "def player_input():\n",
    "    accList = ['Y','N','y','n']\n",
    "    markerList = ['X','O','x','o']\n",
    "    player1Marker = ''\n",
    "    marker = False\n",
    "    choice = False\n",
    "    while choice not in accList:\n",
    "        choice = input('will you start the game? Y/N: ')\n",
    "        if choice in accList:\n",
    "            while marker not in markerList:\n",
    "                marker = input('which marker do you take? X/O:')\n",
    "                if marker in markerList:\n",
    "                    player1Marker = marker\n",
    "                    print(player1Marker)\n",
    "                else:\n",
    "                    print('Sorry, wrong marker')\n",
    "    return player1Marker\n"
   ]
  },
  {
   "cell_type": "code",
   "execution_count": 122,
   "id": "47a6187a",
   "metadata": {},
   "outputs": [
    {
     "name": "stdout",
     "output_type": "stream",
     "text": [
      "will you start the game? Y/N: y\n",
      "which marker do you take? X/O:x\n",
      "x\n",
      "x\n"
     ]
    },
    {
     "data": {
      "text/plain": [
       "str"
      ]
     },
     "execution_count": 122,
     "metadata": {},
     "output_type": "execute_result"
    }
   ],
   "source": [
    "y =player_input()\n",
    "print(y)\n",
    "type(y)"
   ]
  },
  {
   "cell_type": "code",
   "execution_count": 123,
   "id": "ad13e784",
   "metadata": {},
   "outputs": [],
   "source": [
    "# Write a function that takes in the board list object, a marker ('X' or 'O'), and a desired position \n",
    "# (number 1-9) and assigns it to the board.\n",
    "\n",
    "def place_marker(board, marker):\n",
    "    positionList = ['1','2','3','4','5','6','7','8','9']\n",
    "    choice= False\n",
    "    \n",
    "    while choice not in positionList:\n",
    "        choice = input('enter your positon to mark: ')\n",
    "        if choice in positionList:\n",
    "            board[int(choice)-1] = marker\n",
    "        else:\n",
    "            print('Enter a valid position')\n",
    "    return board"
   ]
  },
  {
   "cell_type": "code",
   "execution_count": 124,
   "id": "805946fa",
   "metadata": {},
   "outputs": [
    {
     "name": "stdout",
     "output_type": "stream",
     "text": [
      "enter your positon to mark: 3\n",
      "\n",
      "\n",
      "        |        |    X\n",
      "        |        |          \n",
      "        |        |          \n",
      "--------------------------\n",
      "        |        |          \n",
      "        |        |          \n",
      "        |        |     \n",
      "        |        |          \n",
      "        |        |          \n",
      "--------------------------\n",
      "        |        |          \n",
      "        |        |          \n",
      "        |        |     \n"
     ]
    }
   ],
   "source": [
    "board = [' ',' ',' ',' ',' ',' ',' ' ,' ',' ']\n",
    "#display_board(board)\n",
    "\n",
    "board = place_marker(board,'X')\n",
    "type(board)\n",
    "display_board(board)"
   ]
  },
  {
   "cell_type": "code",
   "execution_count": 125,
   "id": "d15cc6d3",
   "metadata": {},
   "outputs": [],
   "source": [
    "def success(board):\n",
    "    x = board\n",
    "    print(board)\n",
    "    \n",
    "    if (x[0]==x[1]==x[2]!='') or (x[0]==x[3]==x[6]!='') or (x[6]==x[7]==x[8]!='') or (x[1]==x[4]==x[7]!='') or (x[2]==x[8]==x[5]!='') or (x[3]==x[4]==x[5]!='') or (x[2]==x[4]==x[6]!=''):\n",
    "        print ('Congratulation you won!!')\n",
    "    list2 = []\n",
    "    count = 0\n",
    "    for item in board:\n",
    "        count+=1\n",
    "        if item not in ['X','O','x','o'] and item in['',' ']:\n",
    "            list2.append(count-1)\n",
    "    return list2\n",
    "                "
   ]
  },
  {
   "cell_type": "code",
   "execution_count": 126,
   "id": "05622b8f",
   "metadata": {},
   "outputs": [
    {
     "name": "stdout",
     "output_type": "stream",
     "text": [
      "['x', 'x', 'x', '', '', 'x', '', '', '']\n",
      "Congratulation you won!!\n"
     ]
    },
    {
     "data": {
      "text/plain": [
       "[3, 4, 6, 7, 8]"
      ]
     },
     "execution_count": 126,
     "metadata": {},
     "output_type": "execute_result"
    }
   ],
   "source": [
    "success(['x','x','x','','','x','','',''])"
   ]
  },
  {
   "cell_type": "code",
   "execution_count": 132,
   "id": "734fe51a",
   "metadata": {},
   "outputs": [
    {
     "name": "stdout",
     "output_type": "stream",
     "text": [
      "\n",
      "\n",
      "        |        |     \n",
      "        |        |          \n",
      "        |        |          \n",
      "--------------------------\n",
      "        |        |          \n",
      "        |        |          \n",
      "        |        |     \n",
      "        |        |          \n",
      "        |        |          \n",
      "--------------------------\n",
      "        |        |          \n",
      "        |        |          \n",
      "        |        |     \n",
      "will you start the game? Y/N: y\n",
      "which marker do you take? X/O:x\n",
      "x\n",
      "enter your positon to mark: 7\n",
      "[' ', ' ', ' ', ' ', ' ', ' ', 'x', ' ', ' ']\n",
      "Congratulation you won!!\n",
      "\n",
      "\n",
      "        |        |     \n",
      "        |        |          \n",
      "        |        |          \n",
      "--------------------------\n",
      "        |        |          \n",
      "        |        |          \n",
      "        |        |     \n",
      "        |        |          \n",
      "        |        |          \n",
      "--------------------------\n",
      "        |        |          \n",
      "        |        |          \n",
      "    x   |        |     \n",
      "[' ', ' ', ' ', ' ', ' ', ' ', 'x', ' ', ' ']\n",
      "Congratulation you won!!\n"
     ]
    },
    {
     "data": {
      "text/plain": [
       "[0, 1, 2, 3, 4, 5, 7, 8]"
      ]
     },
     "execution_count": 132,
     "metadata": {},
     "output_type": "execute_result"
    }
   ],
   "source": [
    "board=[' ',' ',' ',' ',' ',' ',' ',' ',' ']\n",
    "display_board(board)\n",
    "player1Marker=player_input()\n",
    "board=place_marker(board, player1Marker)\n",
    "success(board)\n",
    "display_board(board)\n",
    "success(board)"
   ]
  },
  {
   "cell_type": "code",
   "execution_count": 5,
   "id": "ca098d57",
   "metadata": {},
   "outputs": [],
   "source": [
    "def player_input():\n",
    "    \n",
    "    marker = ''\n",
    "    while marker not in ['X','x'] and marker not in ['O','o']:\n",
    "        marker = input('Player 1, Please select your marker: ')\n",
    "    player1= marker\n",
    "    if player1 == 'X':\n",
    "        player2 = 'O'\n",
    "    else:\n",
    "        player2 = 'O'\n",
    "    return (player1,player2)"
   ]
  },
  {
   "cell_type": "code",
   "execution_count": 7,
   "id": "85555985",
   "metadata": {},
   "outputs": [
    {
     "name": "stdout",
     "output_type": "stream",
     "text": [
      "Player 1, Please select your marker: o\n"
     ]
    }
   ],
   "source": [
    "player1marker, player2marker = player_input()"
   ]
  },
  {
   "cell_type": "code",
   "execution_count": 8,
   "id": "30f2bb3b",
   "metadata": {},
   "outputs": [
    {
     "data": {
      "text/plain": [
       "'o'"
      ]
     },
     "execution_count": 8,
     "metadata": {},
     "output_type": "execute_result"
    }
   ],
   "source": [
    "\n",
    "player1marker"
   ]
  },
  {
   "cell_type": "code",
   "execution_count": 12,
   "id": "29aadbac",
   "metadata": {},
   "outputs": [],
   "source": [
    "board= ['']*10"
   ]
  },
  {
   "cell_type": "code",
   "execution_count": 13,
   "id": "2325cf96",
   "metadata": {},
   "outputs": [
    {
     "data": {
      "text/plain": [
       "['', '', '', '', '', '', '', '', '', '']"
      ]
     },
     "execution_count": 13,
     "metadata": {},
     "output_type": "execute_result"
    }
   ],
   "source": [
    "board"
   ]
  },
  {
   "cell_type": "code",
   "execution_count": null,
   "id": "ce4b1177",
   "metadata": {},
   "outputs": [],
   "source": []
  }
 ],
 "metadata": {
  "kernelspec": {
   "display_name": "Python 3 (ipykernel)",
   "language": "python",
   "name": "python3"
  },
  "language_info": {
   "codemirror_mode": {
    "name": "ipython",
    "version": 3
   },
   "file_extension": ".py",
   "mimetype": "text/x-python",
   "name": "python",
   "nbconvert_exporter": "python",
   "pygments_lexer": "ipython3",
   "version": "3.9.12"
  }
 },
 "nbformat": 4,
 "nbformat_minor": 5
}
