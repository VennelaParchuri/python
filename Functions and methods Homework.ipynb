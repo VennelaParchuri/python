{
 "cells": [
  {
   "cell_type": "code",
   "execution_count": 6,
   "id": "0d4b701b",
   "metadata": {},
   "outputs": [],
   "source": [
    "# Write a function that computes the volume of a sphere given its radius\n",
    "import math\n",
    "def vol(radius):\n",
    "    return (4/3)*math.pi*(radius**3)"
   ]
  },
  {
   "cell_type": "code",
   "execution_count": 7,
   "id": "1a91e0d6",
   "metadata": {},
   "outputs": [
    {
     "data": {
      "text/plain": [
       "113.09733552923254"
      ]
     },
     "execution_count": 7,
     "metadata": {},
     "output_type": "execute_result"
    }
   ],
   "source": [
    "vol(3)"
   ]
  },
  {
   "cell_type": "code",
   "execution_count": 10,
   "id": "8188b940",
   "metadata": {},
   "outputs": [],
   "source": [
    "# Write a function that checks whether a number is in a given range (inclusive of high and low)\n",
    "\n",
    "def ran_bool(num,low,high):\n",
    "    list1 = []\n",
    "    for n in range(low,high+1):\n",
    "        list1.append(n)\n",
    "    return num in list1"
   ]
  },
  {
   "cell_type": "code",
   "execution_count": 11,
   "id": "af1b93a0",
   "metadata": {},
   "outputs": [
    {
     "data": {
      "text/plain": [
       "True"
      ]
     },
     "execution_count": 11,
     "metadata": {},
     "output_type": "execute_result"
    }
   ],
   "source": [
    "ran_bool(5,2,7)"
   ]
  },
  {
   "cell_type": "code",
   "execution_count": 15,
   "id": "8d4123e6",
   "metadata": {},
   "outputs": [],
   "source": [
    "def ran_check(num,low,high):\n",
    "    list1 = []\n",
    "    for n in range(low,high+1):\n",
    "        list1.append(n)\n",
    "    if num in list1:\n",
    "        print(f'{num} in the range {low} and {high}')\n",
    "    else:\n",
    "        print(f'{num} is not in the range {low} and {high}')   "
   ]
  },
  {
   "cell_type": "code",
   "execution_count": 16,
   "id": "49b9027d",
   "metadata": {},
   "outputs": [
    {
     "name": "stdout",
     "output_type": "stream",
     "text": [
      "11 is not in the range 2 and 7\n"
     ]
    }
   ],
   "source": [
    "ran_check(11,2,7)"
   ]
  },
  {
   "cell_type": "code",
   "execution_count": 80,
   "id": "c2f2356e",
   "metadata": {},
   "outputs": [],
   "source": [
    "#Write a Python function that accepts a string and calculates the number of upper case letters and lower case letters\n",
    "\n",
    "def up_low(string1):\n",
    "    upCount = 0\n",
    "    lowCount = 0\n",
    "    for letter in string1:\n",
    "        if letter.isupper():\n",
    "            upCount+=1\n",
    "        elif letter.islower():\n",
    "            lowCount+=1\n",
    "    print(f'Original string {string1} \\n')\n",
    "    print(f'Number of upper case characters {upCount} \\n')\n",
    "    print(f'Number of lower case characters {lowCount}')\n",
    "            "
   ]
  },
  {
   "cell_type": "code",
   "execution_count": 84,
   "id": "8e920ff6",
   "metadata": {},
   "outputs": [
    {
     "name": "stdout",
     "output_type": "stream",
     "text": [
      "Original string Hello Mr. Rogers, how are you this fine Tuesday? \n",
      "\n",
      "Number of upper case characters 4 \n",
      "\n",
      "Number of lower case characters 33\n"
     ]
    }
   ],
   "source": [
    "s = 'Hello Mr. Rogers, how are you this fine Tuesday?'\n",
    "up_low(s)"
   ]
  },
  {
   "cell_type": "code",
   "execution_count": 19,
   "id": "84ddfb66",
   "metadata": {},
   "outputs": [
    {
     "name": "stdout",
     "output_type": "stream",
     "text": [
      "Original string           \n",
      "\n",
      "Number of upper case characters 0 \n",
      "\n",
      "Number of lower case characters 0\n"
     ]
    }
   ],
   "source": [
    "s='         '\n",
    "up_low(s)"
   ]
  },
  {
   "cell_type": "code",
   "execution_count": 20,
   "id": "65e94e96",
   "metadata": {},
   "outputs": [],
   "source": [
    "# Write a Python function that takes a list and returns a new list with unique elements of the first list.\n",
    "\n",
    "def unique_list(myList):\n",
    "    set1 = set(myList)\n",
    "    newList = []\n",
    "    for n in set1:\n",
    "        newList.append(n)\n",
    "    return newList"
   ]
  },
  {
   "cell_type": "code",
   "execution_count": 21,
   "id": "9bc14a79",
   "metadata": {},
   "outputs": [
    {
     "data": {
      "text/plain": [
       "[1, 2, 3, 4, 5]"
      ]
     },
     "execution_count": 21,
     "metadata": {},
     "output_type": "execute_result"
    }
   ],
   "source": [
    "unique_list([1,1,1,1,2,2,3,3,3,3,4,5])"
   ]
  },
  {
   "cell_type": "code",
   "execution_count": 22,
   "id": "2e6c3413",
   "metadata": {},
   "outputs": [],
   "source": [
    "# Write a Python function to multiply all the numbers in a list.\n",
    "\n",
    "def multiply(numbers):\n",
    "    total = 1\n",
    "    for n in numbers:\n",
    "        total= total*n\n",
    "    return total"
   ]
  },
  {
   "cell_type": "code",
   "execution_count": 23,
   "id": "70902a70",
   "metadata": {},
   "outputs": [
    {
     "data": {
      "text/plain": [
       "-24"
      ]
     },
     "execution_count": 23,
     "metadata": {},
     "output_type": "execute_result"
    }
   ],
   "source": [
    "multiply([1,2,3,-4])"
   ]
  },
  {
   "cell_type": "code",
   "execution_count": 24,
   "id": "630aa151",
   "metadata": {},
   "outputs": [],
   "source": [
    "# Write a Python function that checks whether a word or phrase is palindrome or not.\n",
    "def palindrome(s):\n",
    "    newString = s[::-1]\n",
    "    return s==newString"
   ]
  },
  {
   "cell_type": "code",
   "execution_count": 25,
   "id": "1740a45a",
   "metadata": {},
   "outputs": [
    {
     "data": {
      "text/plain": [
       "True"
      ]
     },
     "execution_count": 25,
     "metadata": {},
     "output_type": "execute_result"
    }
   ],
   "source": [
    "palindrome('helleh')"
   ]
  },
  {
   "cell_type": "code",
   "execution_count": 26,
   "id": "a7667786",
   "metadata": {},
   "outputs": [
    {
     "data": {
      "text/plain": [
       "False"
      ]
     },
     "execution_count": 26,
     "metadata": {},
     "output_type": "execute_result"
    }
   ],
   "source": [
    "palindrome('Vennela')"
   ]
  },
  {
   "cell_type": "code",
   "execution_count": 46,
   "id": "0daed81a",
   "metadata": {},
   "outputs": [],
   "source": [
    "def palindrome(s):\n",
    "    s1= s.replace(' ','')\n",
    "    newString = ''\n",
    "    x = 1\n",
    "    for letter in s1:\n",
    "            newString+= s1[len(s1)-x]\n",
    "            x+=1\n",
    "    return newString.lower() == s1.lower()"
   ]
  },
  {
   "cell_type": "code",
   "execution_count": 47,
   "id": "f4a3e9e8",
   "metadata": {},
   "outputs": [
    {
     "data": {
      "text/plain": [
       "True"
      ]
     },
     "execution_count": 47,
     "metadata": {},
     "output_type": "execute_result"
    }
   ],
   "source": [
    "palindrome('Nurses run')"
   ]
  },
  {
   "cell_type": "code",
   "execution_count": 49,
   "id": "67fd79cf",
   "metadata": {},
   "outputs": [],
   "source": [
    "import string"
   ]
  },
  {
   "cell_type": "code",
   "execution_count": 50,
   "id": "679d2fbc",
   "metadata": {},
   "outputs": [
    {
     "data": {
      "text/plain": [
       "'abcdefghijklmnopqrstuvwxyz'"
      ]
     },
     "execution_count": 50,
     "metadata": {},
     "output_type": "execute_result"
    }
   ],
   "source": [
    "string.ascii_lowercase"
   ]
  },
  {
   "cell_type": "code",
   "execution_count": 89,
   "id": "fc1729ac",
   "metadata": {},
   "outputs": [],
   "source": [
    "# Write a Python function to check whether a string is pangram or not. \n",
    "#(Assume the string passed in does not have any punctuation)\n",
    "\n",
    "def ispangram(str1, alphabet=string.ascii_lowercase):\n",
    "    list1 = []\n",
    "    list1= list(alphabet)\n",
    "    for letter in str1.lower():\n",
    "        if letter in list1:\n",
    "            list1.remove(letter)\n",
    "    if len(list1) == 0:\n",
    "       \n",
    "        print(\"The given string is pangram\")\n",
    "    else:\n",
    "         print(\"The given string is not pangram\")"
   ]
  },
  {
   "cell_type": "code",
   "execution_count": 90,
   "id": "052ff7ed",
   "metadata": {},
   "outputs": [
    {
     "name": "stdout",
     "output_type": "stream",
     "text": [
      "The given string is pangram\n"
     ]
    }
   ],
   "source": [
    "ispangram(\"The quick brown fox jumps over the lazy dog\")"
   ]
  },
  {
   "cell_type": "code",
   "execution_count": 68,
   "id": "92bdfc21",
   "metadata": {},
   "outputs": [],
   "source": [
    "string1 = 'Vennela'"
   ]
  },
  {
   "cell_type": "code",
   "execution_count": 69,
   "id": "d0d85a4d",
   "metadata": {},
   "outputs": [
    {
     "data": {
      "text/plain": [
       "'Ve  ela'"
      ]
     },
     "execution_count": 69,
     "metadata": {},
     "output_type": "execute_result"
    }
   ],
   "source": [
    "string1.replace('n',' ')"
   ]
  },
  {
   "cell_type": "code",
   "execution_count": 70,
   "id": "1d93c43c",
   "metadata": {},
   "outputs": [
    {
     "ename": "TypeError",
     "evalue": "'str' object does not support item assignment",
     "output_type": "error",
     "traceback": [
      "\u001b[1;31m---------------------------------------------------------------------------\u001b[0m",
      "\u001b[1;31mTypeError\u001b[0m                                 Traceback (most recent call last)",
      "Input \u001b[1;32mIn [70]\u001b[0m, in \u001b[0;36m<cell line: 1>\u001b[1;34m()\u001b[0m\n\u001b[1;32m----> 1\u001b[0m string1[\u001b[38;5;241m0\u001b[39m] \u001b[38;5;241m=\u001b[39m \u001b[38;5;124m'\u001b[39m\u001b[38;5;124mP\u001b[39m\u001b[38;5;124m'\u001b[39m\n",
      "\u001b[1;31mTypeError\u001b[0m: 'str' object does not support item assignment"
     ]
    }
   ],
   "source": [
    "string1[0] = 'P'"
   ]
  },
  {
   "cell_type": "code",
   "execution_count": 71,
   "id": "5a0476d4",
   "metadata": {},
   "outputs": [
    {
     "ename": "NameError",
     "evalue": "name 'string2' is not defined",
     "output_type": "error",
     "traceback": [
      "\u001b[1;31m---------------------------------------------------------------------------\u001b[0m",
      "\u001b[1;31mNameError\u001b[0m                                 Traceback (most recent call last)",
      "Input \u001b[1;32mIn [71]\u001b[0m, in \u001b[0;36m<cell line: 1>\u001b[1;34m()\u001b[0m\n\u001b[1;32m----> 1\u001b[0m \u001b[43mstring2\u001b[49m[\u001b[38;5;241m0\u001b[39m]\u001b[38;5;241m=\u001b[39m \u001b[38;5;124m'\u001b[39m\u001b[38;5;124mL\u001b[39m\u001b[38;5;124m'\u001b[39m\n",
      "\u001b[1;31mNameError\u001b[0m: name 'string2' is not defined"
     ]
    }
   ],
   "source": [
    "string2[0]= 'L'"
   ]
  },
  {
   "cell_type": "code",
   "execution_count": 74,
   "id": "31eb69b0",
   "metadata": {},
   "outputs": [],
   "source": [
    "string1 = 'Varun'"
   ]
  },
  {
   "cell_type": "code",
   "execution_count": 75,
   "id": "c3d7aba3",
   "metadata": {},
   "outputs": [
    {
     "data": {
      "text/plain": [
       "2700140423088"
      ]
     },
     "execution_count": 75,
     "metadata": {},
     "output_type": "execute_result"
    }
   ],
   "source": [
    "id(string1)"
   ]
  },
  {
   "cell_type": "code",
   "execution_count": 76,
   "id": "8c5bffe4",
   "metadata": {},
   "outputs": [
    {
     "data": {
      "text/plain": [
       "'Tarun'"
      ]
     },
     "execution_count": 76,
     "metadata": {},
     "output_type": "execute_result"
    }
   ],
   "source": [
    "string1.replace('V','T')"
   ]
  },
  {
   "cell_type": "code",
   "execution_count": 77,
   "id": "ac2e4a6d",
   "metadata": {},
   "outputs": [
    {
     "data": {
      "text/plain": [
       "2700140423088"
      ]
     },
     "execution_count": 77,
     "metadata": {},
     "output_type": "execute_result"
    }
   ],
   "source": [
    "id(string1)"
   ]
  },
  {
   "cell_type": "code",
   "execution_count": 87,
   "id": "fb70c815",
   "metadata": {},
   "outputs": [],
   "source": [
    "string1 = 'Vennela Parchuri'"
   ]
  },
  {
   "cell_type": "code",
   "execution_count": 88,
   "id": "fb932073",
   "metadata": {},
   "outputs": [
    {
     "data": {
      "text/plain": [
       "['V',\n",
       " 'e',\n",
       " 'n',\n",
       " 'n',\n",
       " 'e',\n",
       " 'l',\n",
       " 'a',\n",
       " ' ',\n",
       " 'P',\n",
       " 'a',\n",
       " 'r',\n",
       " 'c',\n",
       " 'h',\n",
       " 'u',\n",
       " 'r',\n",
       " 'i']"
      ]
     },
     "execution_count": 88,
     "metadata": {},
     "output_type": "execute_result"
    }
   ],
   "source": [
    "list(string1)"
   ]
  },
  {
   "cell_type": "code",
   "execution_count": 91,
   "id": "3975bf5c",
   "metadata": {},
   "outputs": [],
   "source": [
    "# Write a Python function that takes a list and returns a new list with unique elements of the first list.\n",
    "\n",
    "def uniq(myList):\n",
    "    notSeen = []\n",
    "    for n in myList:\n",
    "        if n not in notSeen:\n",
    "            notSeen.append(n)\n",
    "    return notSeen\n",
    "    "
   ]
  },
  {
   "cell_type": "code",
   "execution_count": 92,
   "id": "ae2e944f",
   "metadata": {},
   "outputs": [
    {
     "data": {
      "text/plain": [
       "[1, 2, 3, 4, 5]"
      ]
     },
     "execution_count": 92,
     "metadata": {},
     "output_type": "execute_result"
    }
   ],
   "source": [
    "unique_list([1,1,1,1,2,2,3,3,3,3,4,5])"
   ]
  },
  {
   "cell_type": "code",
   "execution_count": 95,
   "id": "4a2032d2",
   "metadata": {},
   "outputs": [],
   "source": [
    "def ispangram(str1, alphabet=string.ascii_lowercase):\n",
    "    alphaSet = set(alphabet)\n",
    "    str1 = str1.replace(' ','')\n",
    "    str1 = str1.lower()\n",
    "    str1 = set(str1)\n",
    "    return str1 == alphaSet"
   ]
  },
  {
   "cell_type": "code",
   "execution_count": 96,
   "id": "3fb40e68",
   "metadata": {},
   "outputs": [
    {
     "data": {
      "text/plain": [
       "True"
      ]
     },
     "execution_count": 96,
     "metadata": {},
     "output_type": "execute_result"
    }
   ],
   "source": [
    "ispangram(\"The quick brown fox jumps over the lazy dog\")"
   ]
  },
  {
   "cell_type": "code",
   "execution_count": null,
   "id": "184bcee8",
   "metadata": {},
   "outputs": [],
   "source": []
  }
 ],
 "metadata": {
  "kernelspec": {
   "display_name": "Python 3 (ipykernel)",
   "language": "python",
   "name": "python3"
  },
  "language_info": {
   "codemirror_mode": {
    "name": "ipython",
    "version": 3
   },
   "file_extension": ".py",
   "mimetype": "text/x-python",
   "name": "python",
   "nbconvert_exporter": "python",
   "pygments_lexer": "ipython3",
   "version": "3.9.12"
  }
 },
 "nbformat": 4,
 "nbformat_minor": 5
}
