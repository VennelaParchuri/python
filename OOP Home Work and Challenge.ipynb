{
 "cells": [
  {
   "cell_type": "code",
   "execution_count": 55,
   "id": "776a4b43",
   "metadata": {},
   "outputs": [],
   "source": [
    "class Line:\n",
    "    \n",
    "    def __init__(self,coor1,coor2):\n",
    "        self.coor1 = coor1\n",
    "        self.coor2 = coor2\n",
    "    \n",
    "    def distance(self):\n",
    "        x1,y1 = self.coor1\n",
    "        x2,y2 = self.coor2\n",
    "        return ((x2-x1)**2 + (y2-y1)**2)**(1/2)\n",
    "     \n",
    "    def slope(self):\n",
    "        x1,y1 = self.coor1\n",
    "        x2,y2 = self.coor2\n",
    "        if (x2-x1)!=0:\n",
    "            return (y2-y1)/(x2-x1)\n",
    "        else:\n",
    "            return 'The slope is 90 degrees'"
   ]
  },
  {
   "cell_type": "code",
   "execution_count": 60,
   "id": "7623097a",
   "metadata": {},
   "outputs": [],
   "source": [
    "line1 = Line((3,2),(8,10))"
   ]
  },
  {
   "cell_type": "code",
   "execution_count": 61,
   "id": "684eefb3",
   "metadata": {},
   "outputs": [],
   "source": [
    "distance = line1.distance()"
   ]
  },
  {
   "cell_type": "code",
   "execution_count": 62,
   "id": "44008ec8",
   "metadata": {},
   "outputs": [
    {
     "name": "stdout",
     "output_type": "stream",
     "text": [
      "9.433981132056603\n"
     ]
    }
   ],
   "source": [
    "print(distance)"
   ]
  },
  {
   "cell_type": "code",
   "execution_count": 63,
   "id": "62c6e7aa",
   "metadata": {},
   "outputs": [
    {
     "name": "stdout",
     "output_type": "stream",
     "text": [
      "1.6\n"
     ]
    }
   ],
   "source": [
    "print(line1.slope())"
   ]
  },
  {
   "cell_type": "code",
   "execution_count": null,
   "id": "e5cdf56f",
   "metadata": {},
   "outputs": [],
   "source": []
  },
  {
   "cell_type": "code",
   "execution_count": null,
   "id": "460f912f",
   "metadata": {},
   "outputs": [],
   "source": []
  },
  {
   "cell_type": "code",
   "execution_count": 87,
   "id": "d788724d",
   "metadata": {},
   "outputs": [],
   "source": [
    "class Cylinder:\n",
    "    pi = 3.14\n",
    "    def __init__(self,height=1,radius=1):\n",
    "        self.height = height\n",
    "        self.radius = radius\n",
    "        \n",
    "    def volume(self):\n",
    "        return round((Cylinder.pi*self.radius*self.radius*self.height),4)\n",
    "    \n",
    "    def surface_area(self):\n",
    "        return round((2*Cylinder.pi*self.radius*self.height + 2*Cylinder.pi*self.radius*self.radius),4)"
   ]
  },
  {
   "cell_type": "code",
   "execution_count": 88,
   "id": "348a6405",
   "metadata": {},
   "outputs": [],
   "source": [
    "c = Cylinder(2,3)"
   ]
  },
  {
   "cell_type": "code",
   "execution_count": 89,
   "id": "d8a721ce",
   "metadata": {},
   "outputs": [
    {
     "data": {
      "text/plain": [
       "56.52"
      ]
     },
     "execution_count": 89,
     "metadata": {},
     "output_type": "execute_result"
    }
   ],
   "source": [
    "c.volume()"
   ]
  },
  {
   "cell_type": "code",
   "execution_count": 90,
   "id": "9539d37f",
   "metadata": {},
   "outputs": [
    {
     "data": {
      "text/plain": [
       "94.2"
      ]
     },
     "execution_count": 90,
     "metadata": {},
     "output_type": "execute_result"
    }
   ],
   "source": [
    "c.surface_area()"
   ]
  },
  {
   "cell_type": "code",
   "execution_count": null,
   "id": "315259cf",
   "metadata": {},
   "outputs": [],
   "source": []
  },
  {
   "cell_type": "code",
   "execution_count": null,
   "id": "0d809213",
   "metadata": {},
   "outputs": [],
   "source": []
  },
  {
   "cell_type": "code",
   "execution_count": 126,
   "id": "8c416590",
   "metadata": {},
   "outputs": [],
   "source": [
    "class Account:\n",
    "    def __init__(self,owner,balance):\n",
    "        self.owner = owner\n",
    "        self.balance = balance\n",
    "    def deposit(self):\n",
    "        print (f'total balance is {self.balance}')\n",
    "        amount = int(input('Enter the amount you want to deposit: '))\n",
    "        self.balance = self.balance + amount\n",
    "        print (f'total balance is {self.balance}')\n",
    "    def withdraw(self):\n",
    "        print (f'total balance is {self.balance}')\n",
    "        amount1 = int(input('Enter the amount you want to deposit: '))\n",
    "        if (self.balance-amount1)> 0:\n",
    "            print('Please collect the amount {} and the remaining balance is {}'.format(amount1, (self.balance-amount1)))\n",
    "            self.balance = self.balance - amount1\n",
    "        else:\n",
    "            print('Insufficient funds. Your balance is {}'.format(self.balance))\n",
    "            "
   ]
  },
  {
   "cell_type": "code",
   "execution_count": 127,
   "id": "05de954c",
   "metadata": {},
   "outputs": [],
   "source": [
    "ac1 = Account('Vennela',1000)"
   ]
  },
  {
   "cell_type": "code",
   "execution_count": 129,
   "id": "943c0fdb",
   "metadata": {},
   "outputs": [
    {
     "name": "stdout",
     "output_type": "stream",
     "text": [
      "total balance is 2000\n",
      "Enter the amount you want to deposit: 1000\n",
      "total balance is 3000\n"
     ]
    }
   ],
   "source": [
    "ac1.deposit()"
   ]
  },
  {
   "cell_type": "code",
   "execution_count": 130,
   "id": "3a84b295",
   "metadata": {},
   "outputs": [
    {
     "name": "stdout",
     "output_type": "stream",
     "text": [
      "total balance is 3000\n",
      "Enter the amount you want to deposit: 2000\n",
      "Please collect the amount 2000 and the remaining balance is 1000\n"
     ]
    }
   ],
   "source": [
    "ac1.withdraw()"
   ]
  },
  {
   "cell_type": "code",
   "execution_count": 131,
   "id": "98f601e7",
   "metadata": {},
   "outputs": [
    {
     "name": "stdout",
     "output_type": "stream",
     "text": [
      "total balance is 1000\n",
      "Enter the amount you want to deposit: 500\n",
      "Please collect the amount 500 and the remaining balance is 500\n"
     ]
    }
   ],
   "source": [
    "ac1.withdraw()"
   ]
  },
  {
   "cell_type": "code",
   "execution_count": 132,
   "id": "d5fbea6e",
   "metadata": {},
   "outputs": [
    {
     "name": "stdout",
     "output_type": "stream",
     "text": [
      "total balance is 500\n",
      "Enter the amount you want to deposit: 400\n",
      "Please collect the amount 400 and the remaining balance is 100\n"
     ]
    }
   ],
   "source": [
    "ac1.withdraw()"
   ]
  },
  {
   "cell_type": "code",
   "execution_count": 133,
   "id": "27f026c9",
   "metadata": {},
   "outputs": [
    {
     "name": "stdout",
     "output_type": "stream",
     "text": [
      "total balance is 100\n",
      "Enter the amount you want to deposit: 900\n",
      "total balance is 1000\n"
     ]
    }
   ],
   "source": [
    "ac1.deposit()"
   ]
  },
  {
   "cell_type": "code",
   "execution_count": null,
   "id": "d17985a0",
   "metadata": {},
   "outputs": [
    {
     "name": "stdout",
     "output_type": "stream",
     "text": [
      "total balance is 1000\n"
     ]
    }
   ],
   "source": [
    "ac1.withdraw()"
   ]
  },
  {
   "cell_type": "code",
   "execution_count": null,
   "id": "6a2aee60",
   "metadata": {},
   "outputs": [],
   "source": []
  }
 ],
 "metadata": {
  "kernelspec": {
   "display_name": "Python 3 (ipykernel)",
   "language": "python",
   "name": "python3"
  },
  "language_info": {
   "codemirror_mode": {
    "name": "ipython",
    "version": 3
   },
   "file_extension": ".py",
   "mimetype": "text/x-python",
   "name": "python",
   "nbconvert_exporter": "python",
   "pygments_lexer": "ipython3",
   "version": "3.9.12"
  }
 },
 "nbformat": 4,
 "nbformat_minor": 5
}
