{
 "cells": [
  {
   "cell_type": "code",
   "execution_count": 1,
   "id": "b2603f8a",
   "metadata": {},
   "outputs": [],
   "source": [
    "def square(num):\n",
    "    return num**2"
   ]
  },
  {
   "cell_type": "code",
   "execution_count": 2,
   "id": "060c5ff6",
   "metadata": {},
   "outputs": [],
   "source": [
    "myList = [1,2,3,4,5]"
   ]
  },
  {
   "cell_type": "code",
   "execution_count": 3,
   "id": "f0206b6e",
   "metadata": {},
   "outputs": [
    {
     "data": {
      "text/plain": [
       "<map at 0x1303c9891c0>"
      ]
     },
     "execution_count": 3,
     "metadata": {},
     "output_type": "execute_result"
    }
   ],
   "source": [
    "map(square,myList)"
   ]
  },
  {
   "cell_type": "code",
   "execution_count": 4,
   "id": "28fcdf1e",
   "metadata": {},
   "outputs": [
    {
     "name": "stdout",
     "output_type": "stream",
     "text": [
      "1\n",
      "4\n",
      "9\n",
      "16\n",
      "25\n"
     ]
    }
   ],
   "source": [
    "for num in map(square,myList):\n",
    "    print(num)"
   ]
  },
  {
   "cell_type": "code",
   "execution_count": 6,
   "id": "14fce141",
   "metadata": {},
   "outputs": [
    {
     "data": {
      "text/plain": [
       "[1, 4, 9, 16, 25]"
      ]
     },
     "execution_count": 6,
     "metadata": {},
     "output_type": "execute_result"
    }
   ],
   "source": [
    "list(map(square,myList))"
   ]
  },
  {
   "cell_type": "code",
   "execution_count": 8,
   "id": "cdc6ae5e",
   "metadata": {},
   "outputs": [],
   "source": [
    "def splicer(myString):\n",
    "    if len(myString)%2==0:\n",
    "        return 'Even'\n",
    "    else:\n",
    "        return myString[0]\n",
    "\n",
    "\n",
    "names = ['Andy','Ella','Daphnie']"
   ]
  },
  {
   "cell_type": "code",
   "execution_count": 10,
   "id": "4c55d5ea",
   "metadata": {},
   "outputs": [
    {
     "data": {
      "text/plain": [
       "['Even', 'Even', 'D']"
      ]
     },
     "execution_count": 10,
     "metadata": {},
     "output_type": "execute_result"
    }
   ],
   "source": [
    "list(map(splicer,names))"
   ]
  },
  {
   "cell_type": "code",
   "execution_count": 11,
   "id": "aca44def",
   "metadata": {},
   "outputs": [],
   "source": [
    "#Filter function\n",
    "\n",
    "def check(num):\n",
    "    return num%2==0"
   ]
  },
  {
   "cell_type": "code",
   "execution_count": 12,
   "id": "3f124753",
   "metadata": {},
   "outputs": [],
   "source": [
    "num_list = [2,3,4,5,6,7,8]"
   ]
  },
  {
   "cell_type": "code",
   "execution_count": 15,
   "id": "6a8bd74a",
   "metadata": {},
   "outputs": [
    {
     "data": {
      "text/plain": [
       "[2, 4, 6, 8]"
      ]
     },
     "execution_count": 15,
     "metadata": {},
     "output_type": "execute_result"
    }
   ],
   "source": [
    "list(filter(check,num_list))"
   ]
  },
  {
   "cell_type": "code",
   "execution_count": 16,
   "id": "90e67471",
   "metadata": {},
   "outputs": [
    {
     "data": {
      "text/plain": [
       "False"
      ]
     },
     "execution_count": 16,
     "metadata": {},
     "output_type": "execute_result"
    }
   ],
   "source": [
    "check(9)"
   ]
  },
  {
   "cell_type": "code",
   "execution_count": 19,
   "id": "51da40c5",
   "metadata": {},
   "outputs": [
    {
     "name": "stdout",
     "output_type": "stream",
     "text": [
      "['V', 'e', 'n', 'n', 'e', 'l', 'a']\n"
     ]
    }
   ],
   "source": [
    "myString = 'Vennela'\n",
    "myList = []\n",
    "for n in myString:\n",
    "    myList.append(n)\n",
    "print(myList)  \n"
   ]
  },
  {
   "cell_type": "code",
   "execution_count": 21,
   "id": "d71f9bbf",
   "metadata": {},
   "outputs": [],
   "source": [
    "list2 =[square(num) for num in num_list]"
   ]
  },
  {
   "cell_type": "code",
   "execution_count": 22,
   "id": "236e2fcf",
   "metadata": {},
   "outputs": [
    {
     "data": {
      "text/plain": [
       "[4, 9, 16, 25, 36, 49, 64]"
      ]
     },
     "execution_count": 22,
     "metadata": {},
     "output_type": "execute_result"
    }
   ],
   "source": [
    "list2"
   ]
  },
  {
   "cell_type": "code",
   "execution_count": 23,
   "id": "52f97fdc",
   "metadata": {},
   "outputs": [],
   "source": [
    "square = lambda num: num**2"
   ]
  },
  {
   "cell_type": "code",
   "execution_count": 24,
   "id": "1812e09f",
   "metadata": {},
   "outputs": [
    {
     "data": {
      "text/plain": [
       "144"
      ]
     },
     "execution_count": 24,
     "metadata": {},
     "output_type": "execute_result"
    }
   ],
   "source": [
    "square(12)"
   ]
  },
  {
   "cell_type": "code",
   "execution_count": 33,
   "id": "bbd08bd3",
   "metadata": {},
   "outputs": [],
   "source": [
    "myNum = [21,22,31,2,3,4,5]"
   ]
  },
  {
   "cell_type": "code",
   "execution_count": 28,
   "id": "2aef9d54",
   "metadata": {},
   "outputs": [
    {
     "data": {
      "text/plain": [
       "[441, 484, 961, 4, 9, 16, 25]"
      ]
     },
     "execution_count": 28,
     "metadata": {},
     "output_type": "execute_result"
    }
   ],
   "source": [
    "list(map(lambda num: num**2, myNum))"
   ]
  },
  {
   "cell_type": "code",
   "execution_count": 29,
   "id": "f471ec2d",
   "metadata": {},
   "outputs": [],
   "source": [
    "even = lambda n: n%2==0"
   ]
  },
  {
   "cell_type": "code",
   "execution_count": 30,
   "id": "efbf114a",
   "metadata": {},
   "outputs": [
    {
     "data": {
      "text/plain": [
       "True"
      ]
     },
     "execution_count": 30,
     "metadata": {},
     "output_type": "execute_result"
    }
   ],
   "source": [
    "even(24)"
   ]
  },
  {
   "cell_type": "code",
   "execution_count": 35,
   "id": "d778e203",
   "metadata": {},
   "outputs": [
    {
     "data": {
      "text/plain": [
       "[22, 2, 4]"
      ]
     },
     "execution_count": 35,
     "metadata": {},
     "output_type": "execute_result"
    }
   ],
   "source": [
    "list(filter(lambda n: n%2==0, myNum))"
   ]
  },
  {
   "cell_type": "code",
   "execution_count": 36,
   "id": "31a3e02e",
   "metadata": {},
   "outputs": [
    {
     "data": {
      "text/plain": [
       "['A', 'E', 'D']"
      ]
     },
     "execution_count": 36,
     "metadata": {},
     "output_type": "execute_result"
    }
   ],
   "source": [
    "# Return first letter of the names\n",
    "list(map(lambda n: n[0], names))"
   ]
  },
  {
   "cell_type": "code",
   "execution_count": 37,
   "id": "68cfae5a",
   "metadata": {},
   "outputs": [],
   "source": [
    "#Global\n",
    "name = 'This is a global string'\n",
    "\n",
    "def greet():\n",
    "    #Enclosing\n",
    "    name = 'Sammy'\n",
    "    def hello():\n",
    "        #Local\n",
    "        name= 'I am Local'\n",
    "        print('Hello '+name)\n",
    "    hello()"
   ]
  },
  {
   "cell_type": "code",
   "execution_count": 38,
   "id": "c7111a58",
   "metadata": {},
   "outputs": [
    {
     "name": "stdout",
     "output_type": "stream",
     "text": [
      "Hello I am Local\n"
     ]
    }
   ],
   "source": [
    "greet()"
   ]
  },
  {
   "cell_type": "code",
   "execution_count": null,
   "id": "b4693419",
   "metadata": {},
   "outputs": [],
   "source": []
  }
 ],
 "metadata": {
  "kernelspec": {
   "display_name": "Python 3 (ipykernel)",
   "language": "python",
   "name": "python3"
  },
  "language_info": {
   "codemirror_mode": {
    "name": "ipython",
    "version": 3
   },
   "file_extension": ".py",
   "mimetype": "text/x-python",
   "name": "python",
   "nbconvert_exporter": "python",
   "pygments_lexer": "ipython3",
   "version": "3.9.12"
  }
 },
 "nbformat": 4,
 "nbformat_minor": 5
}
