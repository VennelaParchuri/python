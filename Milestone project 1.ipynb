{
 "cells": [
  {
   "cell_type": "code",
   "execution_count": 4,
   "id": "033defa2",
   "metadata": {},
   "outputs": [],
   "source": [
    "row1 = [' ',' ',' ']\n",
    "row2 = [' ',' ',' ']\n",
    "row3 = [' ',' ',' ']"
   ]
  },
  {
   "cell_type": "code",
   "execution_count": 5,
   "id": "efef513d",
   "metadata": {},
   "outputs": [],
   "source": [
    "def display(row1,row2,row3):\n",
    "    print(row1)\n",
    "    print(row2)\n",
    "    print(row3)"
   ]
  },
  {
   "cell_type": "code",
   "execution_count": 6,
   "id": "10ff2858",
   "metadata": {},
   "outputs": [
    {
     "name": "stdout",
     "output_type": "stream",
     "text": [
      "[' ', ' ', ' ']\n",
      "[' ', ' ', ' ']\n",
      "[' ', ' ', ' ']\n"
     ]
    }
   ],
   "source": [
    "display(row1,row2,row3)"
   ]
  },
  {
   "cell_type": "code",
   "execution_count": 3,
   "id": "e097728c",
   "metadata": {},
   "outputs": [],
   "source": [
    "def userInput():\n",
    "    acRange = range(0,10)\n",
    "    choice = 'WRONG'\n",
    "    acInput = False\n",
    "    while choice.isdigit() == False or acInput == False:\n",
    "        choice = input(\"enter a number between 1 and 10: \")\n",
    "        if choice.isdigit() == False:\n",
    "            print(\"Please enter a digit\")\n",
    "        if choice.isdigit():\n",
    "            if int(choice) in acRange:\n",
    "                acInput = True\n",
    "            else:\n",
    "                print('enter a valid number')\n",
    "            \n",
    "    return choice\n",
    "            "
   ]
  },
  {
   "cell_type": "code",
   "execution_count": 4,
   "id": "35db6133",
   "metadata": {},
   "outputs": [
    {
     "name": "stdout",
     "output_type": "stream",
     "text": [
      "enter a number between 1 and 10: 25\n",
      "enter a valid number\n",
      "enter a number between 1 and 10: 12\n",
      "enter a valid number\n",
      "enter a number between 1 and 10: 1\n"
     ]
    },
    {
     "data": {
      "text/plain": [
       "'1'"
      ]
     },
     "execution_count": 4,
     "metadata": {},
     "output_type": "execute_result"
    }
   ],
   "source": [
    "userInput()"
   ]
  },
  {
   "cell_type": "code",
   "execution_count": 1,
   "id": "ac8944bf",
   "metadata": {},
   "outputs": [],
   "source": [
    "def cur_list(currentList):\n",
    "    print(f\"Here is the current list: {currentList}\")"
   ]
  },
  {
   "cell_type": "code",
   "execution_count": 2,
   "id": "23418658",
   "metadata": {},
   "outputs": [
    {
     "name": "stdout",
     "output_type": "stream",
     "text": [
      "Here is the current list: [1, 2, 3]\n"
     ]
    }
   ],
   "source": [
    "cur_list([1,2,3])"
   ]
  },
  {
   "cell_type": "code",
   "execution_count": 3,
   "id": "d10b298a",
   "metadata": {},
   "outputs": [],
   "source": [
    "def pick_position():\n",
    "    position = False\n",
    "    positionList = ['0','1','2']\n",
    "    while position not in positionList:\n",
    "        inputPosition = input(\"please enter a position to be relplaced (0,1,2): \")\n",
    "        if inputPosition in positionList:\n",
    "            break;\n",
    "        else:\n",
    "            print('Sorry invalid choice!')\n",
    "    return int(inputPosition)"
   ]
  },
  {
   "cell_type": "code",
   "execution_count": 4,
   "id": "6b07da84",
   "metadata": {},
   "outputs": [
    {
     "name": "stdout",
     "output_type": "stream",
     "text": [
      "please enter a position to be relplaced (0,1,2): 1\n"
     ]
    },
    {
     "data": {
      "text/plain": [
       "1"
      ]
     },
     "execution_count": 4,
     "metadata": {},
     "output_type": "execute_result"
    }
   ],
   "source": [
    "pick_position()"
   ]
  },
  {
   "cell_type": "code",
   "execution_count": 6,
   "id": "1d63c968",
   "metadata": {},
   "outputs": [],
   "source": [
    "def replace_string(position,curList):\n",
    "    repString = input(\"Please enter a string to replace: \")\n",
    "    curList[position] = repString\n",
    "    return curList"
   ]
  },
  {
   "cell_type": "code",
   "execution_count": 7,
   "id": "78ed8a21",
   "metadata": {},
   "outputs": [
    {
     "name": "stdout",
     "output_type": "stream",
     "text": [
      "Please enter a string to replace: v\n"
     ]
    },
    {
     "data": {
      "text/plain": [
       "['1', 'v', '3']"
      ]
     },
     "execution_count": 7,
     "metadata": {},
     "output_type": "execute_result"
    }
   ],
   "source": [
    "replace_string(1,['1','2','3'])"
   ]
  },
  {
   "cell_type": "code",
   "execution_count": 8,
   "id": "c815985e",
   "metadata": {},
   "outputs": [],
   "source": [
    "def game_On():\n",
    "    chList= ['Y','N','y','n']\n",
    "    choice = False\n",
    "    while choice not in chList:\n",
    "        choice = input(\"Do you want to continue the game? (Y/N) : \")\n",
    "        if choice not in chList:\n",
    "            print(\"Sorry I don't understand\")\n",
    "    if choice.upper()=='Y':\n",
    "        return True\n",
    "    elif choice.upper()=='N':\n",
    "        return False"
   ]
  },
  {
   "cell_type": "code",
   "execution_count": 9,
   "id": "309a5118",
   "metadata": {},
   "outputs": [
    {
     "name": "stdout",
     "output_type": "stream",
     "text": [
      "Do you want to continue the game? (Y/N) : y\n"
     ]
    },
    {
     "data": {
      "text/plain": [
       "True"
      ]
     },
     "execution_count": 9,
     "metadata": {},
     "output_type": "execute_result"
    }
   ],
   "source": [
    "game_On()"
   ]
  },
  {
   "cell_type": "code",
   "execution_count": 10,
   "id": "c959bebb",
   "metadata": {},
   "outputs": [
    {
     "name": "stdout",
     "output_type": "stream",
     "text": [
      "Here is the current list: [2, 3, 4]\n",
      "please enter a position to be relplaced (0,1,2): 0\n",
      "Please enter a string to replace: v\n",
      "Here is the current list: ['v', 3, 4]\n",
      "Do you want to continue the game? (Y/N) : y\n",
      "Here is the current list: ['v', 3, 4]\n",
      "please enter a position to be relplaced (0,1,2): 1\n",
      "Please enter a string to replace: v\n",
      "Here is the current list: ['v', 'v', 4]\n",
      "Do you want to continue the game? (Y/N) : y\n",
      "Here is the current list: ['v', 'v', 4]\n",
      "please enter a position to be relplaced (0,1,2): 2\n",
      "Please enter a string to replace: v\n",
      "Here is the current list: ['v', 'v', 'v']\n",
      "Do you want to continue the game? (Y/N) : n\n"
     ]
    }
   ],
   "source": [
    "curList=[2,3,4]\n",
    "gameOn = True\n",
    "\n",
    "while gameOn:\n",
    "    cur_list(curList)\n",
    "\n",
    "    position = pick_position()\n",
    "\n",
    "    replace_string(position,curList)\n",
    "    \n",
    "    cur_list(curList)\n",
    "    \n",
    "    gameOn= game_On()\n"
   ]
  },
  {
   "cell_type": "code",
   "execution_count": null,
   "id": "fc78d66b",
   "metadata": {},
   "outputs": [],
   "source": []
  }
 ],
 "metadata": {
  "kernelspec": {
   "display_name": "Python 3 (ipykernel)",
   "language": "python",
   "name": "python3"
  },
  "language_info": {
   "codemirror_mode": {
    "name": "ipython",
    "version": 3
   },
   "file_extension": ".py",
   "mimetype": "text/x-python",
   "name": "python",
   "nbconvert_exporter": "python",
   "pygments_lexer": "ipython3",
   "version": "3.9.12"
  }
 },
 "nbformat": 4,
 "nbformat_minor": 5
}
