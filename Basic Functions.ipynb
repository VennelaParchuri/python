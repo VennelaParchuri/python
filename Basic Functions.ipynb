{
 "cells": [
  {
   "cell_type": "code",
   "execution_count": 1,
   "id": "c7b1ee6a",
   "metadata": {},
   "outputs": [],
   "source": [
    "def say_hello():\n",
    "    print('Hello')\n",
    "    print('How')\n",
    "    print('are you?')"
   ]
  },
  {
   "cell_type": "code",
   "execution_count": 2,
   "id": "08597a13",
   "metadata": {},
   "outputs": [
    {
     "name": "stdout",
     "output_type": "stream",
     "text": [
      "Hello\n",
      "How\n",
      "are you?\n"
     ]
    }
   ],
   "source": [
    "say_hello()"
   ]
  },
  {
   "cell_type": "code",
   "execution_count": 5,
   "id": "8f8ed3ef",
   "metadata": {},
   "outputs": [],
   "source": [
    "def say_hello(name):\n",
    "    print(f'Hello {name}, How are you?')"
   ]
  },
  {
   "cell_type": "code",
   "execution_count": 6,
   "id": "0399e13e",
   "metadata": {},
   "outputs": [
    {
     "name": "stdout",
     "output_type": "stream",
     "text": [
      "Hello Vennela, How are you?\n"
     ]
    }
   ],
   "source": [
    "say_hello('Vennela')"
   ]
  },
  {
   "cell_type": "code",
   "execution_count": 10,
   "id": "0d088542",
   "metadata": {},
   "outputs": [],
   "source": [
    "def say_hi(name='Vennu'):\n",
    "    print(f'Hello {name}, How are you?')\n"
   ]
  },
  {
   "cell_type": "code",
   "execution_count": 12,
   "id": "ca3f4a10",
   "metadata": {},
   "outputs": [
    {
     "name": "stdout",
     "output_type": "stream",
     "text": [
      "Hello Vennela, How are you?\n"
     ]
    }
   ],
   "source": [
    "say_hi('Vennela')"
   ]
  },
  {
   "cell_type": "code",
   "execution_count": 44,
   "id": "42536f68",
   "metadata": {},
   "outputs": [],
   "source": [
    "def check_even_list(myList):\n",
    "    for num in myList:\n",
    "        if num%2 == 0:\n",
    "            return True\n",
    "        else:\n",
    "            pass\n",
    "    return False"
   ]
  },
  {
   "cell_type": "code",
   "execution_count": 45,
   "id": "4311e3a7",
   "metadata": {},
   "outputs": [
    {
     "data": {
      "text/plain": [
       "True"
      ]
     },
     "execution_count": 45,
     "metadata": {},
     "output_type": "execute_result"
    }
   ],
   "source": [
    "check_even_list([1,3,5,7,8,11,10])"
   ]
  },
  {
   "cell_type": "code",
   "execution_count": 46,
   "id": "42c14867",
   "metadata": {},
   "outputs": [],
   "source": [
    "# return all the even numbers of the list as a list"
   ]
  },
  {
   "cell_type": "code",
   "execution_count": 55,
   "id": "f82e0008",
   "metadata": {},
   "outputs": [],
   "source": [
    "def ret_even_list(myList):\n",
    "    evenList = []\n",
    "    for num in myList:\n",
    "        if num%2 == 0:\n",
    "            evenList.append(num)\n",
    "        else:\n",
    "            pass\n",
    "    return evenList"
   ]
  },
  {
   "cell_type": "code",
   "execution_count": 56,
   "id": "21bd86db",
   "metadata": {},
   "outputs": [
    {
     "data": {
      "text/plain": [
       "[2, 4, 6, 8]"
      ]
     },
     "execution_count": 56,
     "metadata": {},
     "output_type": "execute_result"
    }
   ],
   "source": [
    "ret_even_list([2,4,7,6,8,9])"
   ]
  },
  {
   "cell_type": "code",
   "execution_count": 61,
   "id": "fe046fa8",
   "metadata": {},
   "outputs": [
    {
     "name": "stdout",
     "output_type": "stream",
     "text": [
      "a b\n",
      "c d\n",
      "e f\n"
     ]
    }
   ],
   "source": [
    "List1 = [('a','b'),('c','d'),('e','f')]\n",
    "\n",
    "for (a,b) in List1:\n",
    "    print(a,b)"
   ]
  },
  {
   "cell_type": "code",
   "execution_count": 62,
   "id": "f16946e7",
   "metadata": {},
   "outputs": [],
   "source": [
    "stock_prices = [('apl',100),('gogl',200),('msft',50)]"
   ]
  },
  {
   "cell_type": "code",
   "execution_count": 63,
   "id": "06cb28bb",
   "metadata": {},
   "outputs": [
    {
     "name": "stdout",
     "output_type": "stream",
     "text": [
      "('apl', 100)\n",
      "('gogl', 200)\n",
      "('msft', 50)\n"
     ]
    }
   ],
   "source": [
    "for item in stock_prices:\n",
    "    print(item)"
   ]
  },
  {
   "cell_type": "code",
   "execution_count": 65,
   "id": "ff084b2d",
   "metadata": {},
   "outputs": [
    {
     "name": "stdout",
     "output_type": "stream",
     "text": [
      "apl\n",
      "gogl\n",
      "msft\n"
     ]
    }
   ],
   "source": [
    "for a,b in stock_prices:\n",
    "    print(a)"
   ]
  },
  {
   "cell_type": "code",
   "execution_count": 66,
   "id": "735ff76d",
   "metadata": {},
   "outputs": [],
   "source": [
    "# Find the employee of the month based on highest number of hours worked \n",
    "# and retrun name of the employee and hours worked"
   ]
  },
  {
   "cell_type": "code",
   "execution_count": 74,
   "id": "d97e13c7",
   "metadata": {},
   "outputs": [],
   "source": [
    "work_hours = [('Apple', 700),('Banana',45),('Carrot',200),('Dates',600)]"
   ]
  },
  {
   "cell_type": "code",
   "execution_count": 77,
   "id": "5312f455",
   "metadata": {},
   "outputs": [],
   "source": [
    "def emp_month(work_hrs):\n",
    "    cur_max = 0\n",
    "    emp_name = ''\n",
    "    for emp,hrs in work_hrs:\n",
    "        if hrs>cur_max:\n",
    "            cur_max=hrs\n",
    "            emp_name=emp\n",
    "        else:\n",
    "            pass\n",
    "    return (emp_name,cur_max)"
   ]
  },
  {
   "cell_type": "code",
   "execution_count": 79,
   "id": "1e8c7a20",
   "metadata": {},
   "outputs": [],
   "source": [
    "result = emp_month(work_hours)"
   ]
  },
  {
   "cell_type": "code",
   "execution_count": 80,
   "id": "da7a1677",
   "metadata": {},
   "outputs": [
    {
     "data": {
      "text/plain": [
       "('Apple', 700)"
      ]
     },
     "execution_count": 80,
     "metadata": {},
     "output_type": "execute_result"
    }
   ],
   "source": [
    "result"
   ]
  },
  {
   "cell_type": "code",
   "execution_count": 81,
   "id": "9ed5db63",
   "metadata": {},
   "outputs": [],
   "source": [
    "name, emp =emp_month(work_hours)"
   ]
  },
  {
   "cell_type": "code",
   "execution_count": 82,
   "id": "80c86717",
   "metadata": {},
   "outputs": [
    {
     "data": {
      "text/plain": [
       "'Apple'"
      ]
     },
     "execution_count": 82,
     "metadata": {},
     "output_type": "execute_result"
    }
   ],
   "source": [
    "name"
   ]
  },
  {
   "cell_type": "code",
   "execution_count": 83,
   "id": "b931d56c",
   "metadata": {},
   "outputs": [
    {
     "data": {
      "text/plain": [
       "700"
      ]
     },
     "execution_count": 83,
     "metadata": {},
     "output_type": "execute_result"
    }
   ],
   "source": [
    "emp"
   ]
  },
  {
   "cell_type": "code",
   "execution_count": 84,
   "id": "c3fefeda",
   "metadata": {},
   "outputs": [],
   "source": [
    "# Shuffle the list, ask for user input, check the guess"
   ]
  },
  {
   "cell_type": "code",
   "execution_count": 94,
   "id": "4528f3f6",
   "metadata": {},
   "outputs": [],
   "source": [
    "# To shuffle the list we can actually use shuffle function but as it doesn't return anything\n",
    "# we are writing our own\n",
    "from random import shuffle\n",
    "def shuffle_list(myList):\n",
    "    shuffle(myList)\n",
    "    return myList"
   ]
  },
  {
   "cell_type": "code",
   "execution_count": 95,
   "id": "fc37f86f",
   "metadata": {},
   "outputs": [],
   "source": [
    "# Taking user input based on indexes\n",
    "def guess_the_index():\n",
    "    guess = ''\n",
    "    while guess not in ['0','1','2']:\n",
    "        guess= input('Pick a number: 0, 1 or 2 ')\n",
    "    return int(guess)"
   ]
  },
  {
   "cell_type": "code",
   "execution_count": 103,
   "id": "96345715",
   "metadata": {},
   "outputs": [],
   "source": [
    "def check_guess(myList,guess):\n",
    "    if myList[guess] == 0:\n",
    "        print('Correct!')\n",
    "    else:\n",
    "        print('Wrong Guess!')\n",
    "        print('Correct guess is:' + str(myList.index('0')))\n",
    "        print(myList)"
   ]
  },
  {
   "cell_type": "code",
   "execution_count": 106,
   "id": "02005fc3",
   "metadata": {},
   "outputs": [
    {
     "name": "stdout",
     "output_type": "stream",
     "text": [
      "Pick a number: 0, 1 or 2 2\n",
      "Wrong Guess!\n",
      "Correct guess is:0\n",
      "['0', ' ', ' ']\n"
     ]
    }
   ],
   "source": [
    "# List\n",
    "myList4 = [' ',' ','0']\n",
    "shuffled_list = shuffle_list(myList4)\n",
    "guess = guess_the_index()\n",
    "check_guess(shuffled_list,guess)"
   ]
  },
  {
   "cell_type": "code",
   "execution_count": 105,
   "id": "39ece1f1",
   "metadata": {},
   "outputs": [
    {
     "name": "stdout",
     "output_type": "stream",
     "text": [
      "Pick a number: 0, 1 or 2 2\n",
      "Wrong Guess!\n",
      "Correct guess is:1\n",
      "[' ', '0', ' ']\n"
     ]
    }
   ],
   "source": []
  },
  {
   "cell_type": "code",
   "execution_count": 111,
   "id": "e6bc1aa9",
   "metadata": {},
   "outputs": [],
   "source": [
    "def myfunc(name):\n",
    "    print('Hello ' + name)"
   ]
  },
  {
   "cell_type": "code",
   "execution_count": 112,
   "id": "091236f5",
   "metadata": {},
   "outputs": [
    {
     "name": "stdout",
     "output_type": "stream",
     "text": [
      "Hello Vennela\n"
     ]
    }
   ],
   "source": [
    "myfunc('Vennela')"
   ]
  },
  {
   "cell_type": "code",
   "execution_count": 136,
   "id": "cdd6578d",
   "metadata": {},
   "outputs": [],
   "source": [
    "def myfunc(*args):\n",
    "    return sum(args)*0.05"
   ]
  },
  {
   "cell_type": "code",
   "execution_count": 138,
   "id": "a17bb697",
   "metadata": {},
   "outputs": [
    {
     "data": {
      "text/plain": [
       "10.0"
      ]
     },
     "execution_count": 138,
     "metadata": {},
     "output_type": "execute_result"
    }
   ],
   "source": [
    "myfunc(40,60,100)"
   ]
  },
  {
   "cell_type": "code",
   "execution_count": 116,
   "id": "83cbce54",
   "metadata": {},
   "outputs": [],
   "source": [
    "def myfunc(*args):\n",
    "    print(args)"
   ]
  },
  {
   "cell_type": "code",
   "execution_count": 134,
   "id": "6986a398",
   "metadata": {},
   "outputs": [
    {
     "name": "stdout",
     "output_type": "stream",
     "text": [
      "(40, 60, 100, 'Vennu')\n"
     ]
    }
   ],
   "source": [
    "myfunc(40,60,100,'Vennu')"
   ]
  },
  {
   "cell_type": "code",
   "execution_count": 127,
   "id": "295d5fe0",
   "metadata": {},
   "outputs": [],
   "source": [
    "def kmyfunc(**kwargs):\n",
    "    print(kwargs)"
   ]
  },
  {
   "cell_type": "code",
   "execution_count": 133,
   "id": "a7e27007",
   "metadata": {},
   "outputs": [
    {
     "name": "stdout",
     "output_type": "stream",
     "text": [
      "{'fruit': 'Apple', 'Veggie': 'Tomato', 'number': 4}\n"
     ]
    },
    {
     "ename": "SyntaxError",
     "evalue": "keyword argument repeated: fruit (294014890.py, line 2)",
     "output_type": "error",
     "traceback": [
      "\u001b[1;36m  Input \u001b[1;32mIn [133]\u001b[1;36m\u001b[0m\n\u001b[1;33m    kmyfunc(fruit='Apple',Veggie='Tomato',number=4,fruit='Banana')\u001b[0m\n\u001b[1;37m                                                   ^\u001b[0m\n\u001b[1;31mSyntaxError\u001b[0m\u001b[1;31m:\u001b[0m keyword argument repeated: fruit\n"
     ]
    }
   ],
   "source": [
    "kmyfunc(fruit ='Apple',Veggie='Tomato',number=4)\n",
    "kmyfunc(fruit='Apple',Veggie='Tomato',number=4,fruit='Banana')"
   ]
  },
  {
   "cell_type": "code",
   "execution_count": 125,
   "id": "73a63bef",
   "metadata": {},
   "outputs": [],
   "source": [
    "def myfunc1(**kwargs):\n",
    "    if 'fruit' in kwargs:\n",
    "        print('my choice of fruit is:{} '.format(kwargs['fruit']))\n",
    "    else:\n",
    "        print(\"I don't know what to do\")"
   ]
  },
  {
   "cell_type": "code",
   "execution_count": 126,
   "id": "b60ebd28",
   "metadata": {},
   "outputs": [
    {
     "name": "stdout",
     "output_type": "stream",
     "text": [
      "my choice of fruit is:Apple \n"
     ]
    }
   ],
   "source": [
    "myfunc1(fruit='Apple',Veggie='Tomato',number=4)"
   ]
  },
  {
   "cell_type": "code",
   "execution_count": 139,
   "id": "dd99707b",
   "metadata": {},
   "outputs": [],
   "source": [
    "def myfunc(*args,**kwargs):\n",
    "    print(args)\n",
    "    print(kwargs)\n",
    "    print('I would like {} {}'.format(args[1],kwargs['food']))"
   ]
  },
  {
   "cell_type": "code",
   "execution_count": 141,
   "id": "f859aff3",
   "metadata": {},
   "outputs": [
    {
     "name": "stdout",
     "output_type": "stream",
     "text": [
      "(10, 20, 30)\n",
      "{'number': 23, 'food': 'Apples', 'fruit': 'Banana'}\n",
      "I would like 20 Apples\n"
     ]
    }
   ],
   "source": [
    "myfunc(10,20,30,number=23,food='Apples',fruit='Banana')"
   ]
  },
  {
   "cell_type": "code",
   "execution_count": 147,
   "id": "10927e1c",
   "metadata": {},
   "outputs": [],
   "source": [
    "def myfunc(*args):\n",
    "    mylist = []\n",
    "    for x in args:\n",
    "        if x%2 == 0:\n",
    "            mylist.append(x)\n",
    "        else:\n",
    "            pass\n",
    "    return mylist"
   ]
  },
  {
   "cell_type": "code",
   "execution_count": 148,
   "id": "eb7aad88",
   "metadata": {},
   "outputs": [
    {
     "data": {
      "text/plain": [
       "[2, 4, 6, 8, 6]"
      ]
     },
     "execution_count": 148,
     "metadata": {},
     "output_type": "execute_result"
    }
   ],
   "source": [
    "myfunc(1,2,4,6,5,8,6)"
   ]
  },
  {
   "cell_type": "code",
   "execution_count": 175,
   "id": "d0d5edf2",
   "metadata": {},
   "outputs": [],
   "source": [
    "def myfunc(myString):\n",
    "    newString= []\n",
    "    for x in range(1,(len(myString)+1)):\n",
    "        if x%2==0:\n",
    "            newString.append(myString[x-1].upper())\n",
    "        elif x%2!=0:\n",
    "            newString.append(myString[x-1].lower())\n",
    "    return newString"
   ]
  },
  {
   "cell_type": "code",
   "execution_count": 176,
   "id": "45f96fa1",
   "metadata": {},
   "outputs": [
    {
     "data": {
      "text/plain": [
       "['a', 'B']"
      ]
     },
     "execution_count": 176,
     "metadata": {},
     "output_type": "execute_result"
    }
   ],
   "source": [
    "myfunc('Ab')"
   ]
  },
  {
   "cell_type": "code",
   "execution_count": 184,
   "id": "edd9c070",
   "metadata": {},
   "outputs": [],
   "source": [
    "def myfunc(myString):\n",
    "    newString= ''\n",
    "    for x in range(1,(len(myString)+1)):\n",
    "        if x%2==0:\n",
    "            newString = newString + myString[x-1].upper()\n",
    "        elif x%2!=0:\n",
    "            newString = newString + myString[x-1].lower()\n",
    "    return newString"
   ]
  },
  {
   "cell_type": "code",
   "execution_count": 186,
   "id": "48457eaf",
   "metadata": {},
   "outputs": [
    {
     "data": {
      "text/plain": [
       "'aNtHrOpOmOrPhIsM'"
      ]
     },
     "execution_count": 186,
     "metadata": {},
     "output_type": "execute_result"
    }
   ],
   "source": [
    "myfunc('Anthropomorphism')"
   ]
  },
  {
   "cell_type": "code",
   "execution_count": null,
   "id": "1e37a054",
   "metadata": {},
   "outputs": [],
   "source": []
  }
 ],
 "metadata": {
  "kernelspec": {
   "display_name": "Python 3 (ipykernel)",
   "language": "python",
   "name": "python3"
  },
  "language_info": {
   "codemirror_mode": {
    "name": "ipython",
    "version": 3
   },
   "file_extension": ".py",
   "mimetype": "text/x-python",
   "name": "python",
   "nbconvert_exporter": "python",
   "pygments_lexer": "ipython3",
   "version": "3.9.12"
  }
 },
 "nbformat": 4,
 "nbformat_minor": 5
}
